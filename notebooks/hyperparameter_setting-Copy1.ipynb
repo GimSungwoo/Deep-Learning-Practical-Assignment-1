{
 "cells": [
  {
   "cell_type": "markdown",
   "metadata": {},
   "source": [
    "# Coursework 1\n",
    "\n",
    "This notebook is intended to be used as a starting point for your experiments. The instructions can be found in the instructions file located under spec/coursework1.pdf. The methods provided here are just helper functions. If you want more complex graphs such as side by side comparisons of different experiments you should learn more about matplotlib and implement them. Before each experiment remember to re-initialize neural network weights and reset the data providers so you get a properly initialized experiment. For each experiment try to keep most hyperparameters the same except the one under investigation so you can understand what the effects of each are."
   ]
  },
  {
   "cell_type": "code",
   "execution_count": 1,
   "metadata": {},
   "outputs": [],
   "source": [
    "import matplotlib.pyplot as plt\n",
    "%matplotlib inline\n",
    "plt.style.use('ggplot')\n",
    "\n",
    "def train_model_and_plot_stats(\n",
    "        model, error, learning_rule, cos_anneal, train_data, valid_data, num_epochs, stats_interval, notebook=True):\n",
    "    \n",
    "    # As well as monitoring the error over training also monitor classification\n",
    "    # accuracy i.e. proportion of most-probable predicted classes being equal to targets\n",
    "    data_monitors={'acc': lambda y, t: (y.argmax(-1) == t.argmax(-1)).mean()}\n",
    "\n",
    "    # Use the created objects to initialise a new Optimiser instance.\n",
    "    optimiser = Optimiser(\n",
    "        model, error, learning_rule, cos_anneal, train_data, valid_data, data_monitors, notebook=notebook)\n",
    "\n",
    "    # Run the optimiser for 5 epochs (full passes through the training set)\n",
    "    # printing statistics every epoch.\n",
    "    stats, keys, run_time = optimiser.train(num_epochs=num_epochs, stats_interval=stats_interval)\n",
    "\n",
    "    # Plot the change in the validation and training set error over training.\n",
    "    fig_1 = plt.figure(figsize=(8, 4))\n",
    "    ax_1 = fig_1.add_subplot(111)\n",
    "    for k in ['error(train)', 'error(valid)']:\n",
    "        ax_1.plot(np.arange(1, stats.shape[0]) * stats_interval, \n",
    "                  stats[1:, keys[k]], label=k)\n",
    "    ax_1.legend(loc=0)\n",
    "    ax_1.set_xlabel('Epoch number')\n",
    "    fig_1.tight_layout()\n",
    "    #fig_1.savefig('Q3-cos_aneal-restart-lr'+str(learning_rule.learning_rate)+'-beta1-'+str(learning_rule.beta_1)+'-beta2-'+str(learning_rule.beta_2)+'-error.pdf')\n",
    "    \n",
    "    # Plot the change in the validation and training set accuracy over training.\n",
    "    fig_2 = plt.figure(figsize=(8, 4))\n",
    "    ax_2 = fig_2.add_subplot(111)\n",
    "    for k in ['acc(train)', 'acc(valid)']:\n",
    "        ax_2.plot(np.arange(1, stats.shape[0]) * stats_interval, \n",
    "                  stats[1:, keys[k]], label=k)\n",
    "    ax_2.legend(loc=0)\n",
    "    ax_2.set_xlabel('Epoch number')\n",
    "    fig_2.tight_layout()\n",
    "    #fig_2.savefig('Q3-cos_aneal-restart-lr'+str(learning_rule.learning_rate)+'-beta1-'+str(learning_rule.beta_1)+'-beta2-'+str(learning_rule.beta_2)+'-accuracy.pdf')\n",
    "    \n",
    "    return stats, keys, run_time, fig_1, ax_1, fig_2, ax_2"
   ]
  },
  {
   "cell_type": "code",
   "execution_count": 2,
   "metadata": {},
   "outputs": [
    {
     "name": "stdout",
     "output_type": "stream",
     "text": [
      "KeysView(<numpy.lib.npyio.NpzFile object at 0x7f8c80b66978>)\n",
      "KeysView(<numpy.lib.npyio.NpzFile object at 0x7f8ca83b32b0>)\n"
     ]
    }
   ],
   "source": [
    "# The below code will set up the data providers, random number\n",
    "# generator and logger objects needed for training runs. As\n",
    "# loading the data from file take a little while you generally\n",
    "# will probably not want to reload the data providers on\n",
    "# every training run. If you wish to reset their state you\n",
    "# should instead use the .reset() method of the data providers.\n",
    "import numpy as np\n",
    "import logging\n",
    "from mlp.data_providers import MNISTDataProvider, EMNISTDataProvider\n",
    "\n",
    "# Seed a random number generator\n",
    "seed = 11 \n",
    "rng = np.random.RandomState(seed)\n",
    "batch_size = 100\n",
    "# Set up a logger object to print info about the training run to stdout\n",
    "logger = logging.getLogger()\n",
    "logger.setLevel(logging.INFO)\n",
    "logger.handlers = [logging.StreamHandler()]\n",
    "\n",
    "# Create data provider objects for the MNIST data set\n",
    "train_data = EMNISTDataProvider('train', batch_size=batch_size, rng=rng)\n",
    "valid_data = EMNISTDataProvider('valid', batch_size=15800, rng=rng)"
   ]
  },
  {
   "cell_type": "code",
   "execution_count": 3,
   "metadata": {
    "scrolled": true
   },
   "outputs": [
    {
     "data": {
      "application/vnd.jupyter.widget-view+json": {
       "model_id": "f01d3f034be4410086578f6a5089d4f1",
       "version_major": 2,
       "version_minor": 0
      },
      "text/plain": [
       "HBox(children=(IntProgress(value=0), HTML(value='')))"
      ]
     },
     "metadata": {},
     "output_type": "display_data"
    },
    {
     "data": {
      "application/vnd.jupyter.widget-view+json": {
       "model_id": "e3db776f3afe4b2bb8d105965b58ac07",
       "version_major": 2,
       "version_minor": 0
      },
      "text/plain": [
       "HBox(children=(IntProgress(value=0, max=1000), HTML(value='')))"
      ]
     },
     "metadata": {},
     "output_type": "display_data"
    },
    {
     "name": "stderr",
     "output_type": "stream",
     "text": [
      "Epoch 1: 3.8s to complete\n",
      "    error(train)=9.15e-01, acc(train)=7.27e-01, error(valid)=9.34e-01, acc(valid)=7.22e-01\n"
     ]
    },
    {
     "data": {
      "application/vnd.jupyter.widget-view+json": {
       "model_id": "9a34abda396940c0905dbd02432d8a2f",
       "version_major": 2,
       "version_minor": 0
      },
      "text/plain": [
       "HBox(children=(IntProgress(value=0, max=1000), HTML(value='')))"
      ]
     },
     "metadata": {},
     "output_type": "display_data"
    },
    {
     "name": "stderr",
     "output_type": "stream",
     "text": [
      "Epoch 2: 3.9s to complete\n",
      "    error(train)=6.90e-01, acc(train)=7.84e-01, error(valid)=7.28e-01, acc(valid)=7.74e-01\n"
     ]
    },
    {
     "data": {
      "application/vnd.jupyter.widget-view+json": {
       "model_id": "36d60f23ab684736a200a57b50461c47",
       "version_major": 2,
       "version_minor": 0
      },
      "text/plain": [
       "HBox(children=(IntProgress(value=0, max=1000), HTML(value='')))"
      ]
     },
     "metadata": {},
     "output_type": "display_data"
    },
    {
     "name": "stderr",
     "output_type": "stream",
     "text": [
      "Epoch 3: 3.5s to complete\n",
      "    error(train)=5.78e-01, acc(train)=8.15e-01, error(valid)=6.35e-01, acc(valid)=8.00e-01\n"
     ]
    },
    {
     "data": {
      "application/vnd.jupyter.widget-view+json": {
       "model_id": "0180b14cd19948cd95a203c4fbd839f7",
       "version_major": 2,
       "version_minor": 0
      },
      "text/plain": [
       "HBox(children=(IntProgress(value=0, max=1000), HTML(value='')))"
      ]
     },
     "metadata": {},
     "output_type": "display_data"
    },
    {
     "name": "stderr",
     "output_type": "stream",
     "text": [
      "Epoch 4: 3.8s to complete\n",
      "    error(train)=5.24e-01, acc(train)=8.29e-01, error(valid)=5.96e-01, acc(valid)=8.08e-01\n"
     ]
    },
    {
     "data": {
      "application/vnd.jupyter.widget-view+json": {
       "model_id": "556bd3d3e10c42f88c7ad05d07719acc",
       "version_major": 2,
       "version_minor": 0
      },
      "text/plain": [
       "HBox(children=(IntProgress(value=0, max=1000), HTML(value='')))"
      ]
     },
     "metadata": {},
     "output_type": "display_data"
    },
    {
     "name": "stderr",
     "output_type": "stream",
     "text": [
      "Epoch 5: 3.9s to complete\n",
      "    error(train)=4.85e-01, acc(train)=8.37e-01, error(valid)=5.61e-01, acc(valid)=8.15e-01\n"
     ]
    },
    {
     "data": {
      "application/vnd.jupyter.widget-view+json": {
       "model_id": "99958e6d7ada4af785195a0f86039d36",
       "version_major": 2,
       "version_minor": 0
      },
      "text/plain": [
       "HBox(children=(IntProgress(value=0, max=1000), HTML(value='')))"
      ]
     },
     "metadata": {},
     "output_type": "display_data"
    },
    {
     "name": "stderr",
     "output_type": "stream",
     "text": [
      "Epoch 6: 3.3s to complete\n",
      "    error(train)=4.48e-01, acc(train)=8.49e-01, error(valid)=5.42e-01, acc(valid)=8.24e-01\n"
     ]
    },
    {
     "data": {
      "application/vnd.jupyter.widget-view+json": {
       "model_id": "a5f6e31e86ef421d8c6ea3fa44b44451",
       "version_major": 2,
       "version_minor": 0
      },
      "text/plain": [
       "HBox(children=(IntProgress(value=0, max=1000), HTML(value='')))"
      ]
     },
     "metadata": {},
     "output_type": "display_data"
    },
    {
     "name": "stderr",
     "output_type": "stream",
     "text": [
      "Epoch 7: 3.3s to complete\n",
      "    error(train)=4.27e-01, acc(train)=8.53e-01, error(valid)=5.29e-01, acc(valid)=8.29e-01\n"
     ]
    },
    {
     "data": {
      "application/vnd.jupyter.widget-view+json": {
       "model_id": "af3722509ba6485a86ce7863a3f796f6",
       "version_major": 2,
       "version_minor": 0
      },
      "text/plain": [
       "HBox(children=(IntProgress(value=0, max=1000), HTML(value='')))"
      ]
     },
     "metadata": {},
     "output_type": "display_data"
    },
    {
     "name": "stderr",
     "output_type": "stream",
     "text": [
      "Epoch 8: 3.9s to complete\n",
      "    error(train)=4.15e-01, acc(train)=8.57e-01, error(valid)=5.32e-01, acc(valid)=8.30e-01\n"
     ]
    },
    {
     "data": {
      "application/vnd.jupyter.widget-view+json": {
       "model_id": "8a9fc493aef445d7b8fc2b5ddb4115eb",
       "version_major": 2,
       "version_minor": 0
      },
      "text/plain": [
       "HBox(children=(IntProgress(value=0, max=1000), HTML(value='')))"
      ]
     },
     "metadata": {},
     "output_type": "display_data"
    },
    {
     "name": "stderr",
     "output_type": "stream",
     "text": [
      "Epoch 9: 3.8s to complete\n",
      "    error(train)=3.88e-01, acc(train)=8.65e-01, error(valid)=5.13e-01, acc(valid)=8.33e-01\n"
     ]
    },
    {
     "data": {
      "application/vnd.jupyter.widget-view+json": {
       "model_id": "916e7edda95246c3a0ef9bf65db113c6",
       "version_major": 2,
       "version_minor": 0
      },
      "text/plain": [
       "HBox(children=(IntProgress(value=0, max=1000), HTML(value='')))"
      ]
     },
     "metadata": {},
     "output_type": "display_data"
    },
    {
     "name": "stderr",
     "output_type": "stream",
     "text": [
      "Epoch 10: 3.1s to complete\n",
      "    error(train)=3.88e-01, acc(train)=8.65e-01, error(valid)=5.29e-01, acc(valid)=8.28e-01\n"
     ]
    },
    {
     "data": {
      "application/vnd.jupyter.widget-view+json": {
       "model_id": "3b55c76c41a1432197d04bd441529b90",
       "version_major": 2,
       "version_minor": 0
      },
      "text/plain": [
       "HBox(children=(IntProgress(value=0, max=1000), HTML(value='')))"
      ]
     },
     "metadata": {},
     "output_type": "display_data"
    },
    {
     "name": "stderr",
     "output_type": "stream",
     "text": [
      "Epoch 11: 3.8s to complete\n",
      "    error(train)=3.70e-01, acc(train)=8.68e-01, error(valid)=5.21e-01, acc(valid)=8.32e-01\n"
     ]
    },
    {
     "data": {
      "application/vnd.jupyter.widget-view+json": {
       "model_id": "c37c9b4dbf88454a919f6cf5c70b61f7",
       "version_major": 2,
       "version_minor": 0
      },
      "text/plain": [
       "HBox(children=(IntProgress(value=0, max=1000), HTML(value='')))"
      ]
     },
     "metadata": {},
     "output_type": "display_data"
    },
    {
     "name": "stderr",
     "output_type": "stream",
     "text": [
      "Epoch 12: 3.7s to complete\n",
      "    error(train)=3.74e-01, acc(train)=8.67e-01, error(valid)=5.46e-01, acc(valid)=8.26e-01\n"
     ]
    },
    {
     "data": {
      "application/vnd.jupyter.widget-view+json": {
       "model_id": "1ad9883ddc6f458fb11b30d8afa27f54",
       "version_major": 2,
       "version_minor": 0
      },
      "text/plain": [
       "HBox(children=(IntProgress(value=0, max=1000), HTML(value='')))"
      ]
     },
     "metadata": {},
     "output_type": "display_data"
    },
    {
     "name": "stderr",
     "output_type": "stream",
     "text": [
      "Epoch 13: 3.2s to complete\n",
      "    error(train)=3.43e-01, acc(train)=8.77e-01, error(valid)=5.21e-01, acc(valid)=8.36e-01\n"
     ]
    },
    {
     "data": {
      "application/vnd.jupyter.widget-view+json": {
       "model_id": "c7260c07d01d47aab7ff069db8de8dce",
       "version_major": 2,
       "version_minor": 0
      },
      "text/plain": [
       "HBox(children=(IntProgress(value=0, max=1000), HTML(value='')))"
      ]
     },
     "metadata": {},
     "output_type": "display_data"
    },
    {
     "name": "stderr",
     "output_type": "stream",
     "text": [
      "Epoch 14: 3.3s to complete\n",
      "    error(train)=3.36e-01, acc(train)=8.80e-01, error(valid)=5.20e-01, acc(valid)=8.34e-01\n"
     ]
    },
    {
     "data": {
      "application/vnd.jupyter.widget-view+json": {
       "model_id": "f9d34786c14147b6bdd38e8da59e96a8",
       "version_major": 2,
       "version_minor": 0
      },
      "text/plain": [
       "HBox(children=(IntProgress(value=0, max=1000), HTML(value='')))"
      ]
     },
     "metadata": {},
     "output_type": "display_data"
    },
    {
     "name": "stderr",
     "output_type": "stream",
     "text": [
      "Epoch 15: 3.3s to complete\n",
      "    error(train)=3.14e-01, acc(train)=8.87e-01, error(valid)=5.06e-01, acc(valid)=8.41e-01\n"
     ]
    },
    {
     "data": {
      "application/vnd.jupyter.widget-view+json": {
       "model_id": "75236db669e84c9694a969d657275a5e",
       "version_major": 2,
       "version_minor": 0
      },
      "text/plain": [
       "HBox(children=(IntProgress(value=0, max=1000), HTML(value='')))"
      ]
     },
     "metadata": {},
     "output_type": "display_data"
    },
    {
     "name": "stderr",
     "output_type": "stream",
     "text": [
      "Epoch 16: 3.4s to complete\n",
      "    error(train)=3.09e-01, acc(train)=8.88e-01, error(valid)=5.16e-01, acc(valid)=8.36e-01\n"
     ]
    },
    {
     "data": {
      "application/vnd.jupyter.widget-view+json": {
       "model_id": "4636d45c8103472daaa1da44bb789738",
       "version_major": 2,
       "version_minor": 0
      },
      "text/plain": [
       "HBox(children=(IntProgress(value=0, max=1000), HTML(value='')))"
      ]
     },
     "metadata": {},
     "output_type": "display_data"
    },
    {
     "name": "stderr",
     "output_type": "stream",
     "text": [
      "Epoch 17: 3.3s to complete\n",
      "    error(train)=2.95e-01, acc(train)=8.93e-01, error(valid)=5.14e-01, acc(valid)=8.40e-01\n"
     ]
    },
    {
     "data": {
      "application/vnd.jupyter.widget-view+json": {
       "model_id": "03f1c3c2a6b044538822bb4de5100b8d",
       "version_major": 2,
       "version_minor": 0
      },
      "text/plain": [
       "HBox(children=(IntProgress(value=0, max=1000), HTML(value='')))"
      ]
     },
     "metadata": {},
     "output_type": "display_data"
    },
    {
     "name": "stderr",
     "output_type": "stream",
     "text": [
      "Epoch 18: 3.6s to complete\n",
      "    error(train)=2.89e-01, acc(train)=8.95e-01, error(valid)=5.12e-01, acc(valid)=8.44e-01\n"
     ]
    },
    {
     "data": {
      "application/vnd.jupyter.widget-view+json": {
       "model_id": "618f4d5899d8401d9b7421741a7fa0dc",
       "version_major": 2,
       "version_minor": 0
      },
      "text/plain": [
       "HBox(children=(IntProgress(value=0, max=1000), HTML(value='')))"
      ]
     },
     "metadata": {},
     "output_type": "display_data"
    },
    {
     "name": "stderr",
     "output_type": "stream",
     "text": [
      "Epoch 19: 3.6s to complete\n",
      "    error(train)=2.79e-01, acc(train)=8.98e-01, error(valid)=5.29e-01, acc(valid)=8.39e-01\n"
     ]
    },
    {
     "data": {
      "application/vnd.jupyter.widget-view+json": {
       "model_id": "438a9ac150314ce58aa9460a093645a2",
       "version_major": 2,
       "version_minor": 0
      },
      "text/plain": [
       "HBox(children=(IntProgress(value=0, max=1000), HTML(value='')))"
      ]
     },
     "metadata": {},
     "output_type": "display_data"
    },
    {
     "name": "stderr",
     "output_type": "stream",
     "text": [
      "Epoch 20: 3.9s to complete\n",
      "    error(train)=2.76e-01, acc(train)=8.97e-01, error(valid)=5.36e-01, acc(valid)=8.35e-01\n"
     ]
    },
    {
     "data": {
      "application/vnd.jupyter.widget-view+json": {
       "model_id": "a551fc6d55ad489fa1e3e462a3bff5d2",
       "version_major": 2,
       "version_minor": 0
      },
      "text/plain": [
       "HBox(children=(IntProgress(value=0, max=1000), HTML(value='')))"
      ]
     },
     "metadata": {},
     "output_type": "display_data"
    },
    {
     "name": "stderr",
     "output_type": "stream",
     "text": [
      "Epoch 21: 3.7s to complete\n",
      "    error(train)=2.64e-01, acc(train)=9.03e-01, error(valid)=5.22e-01, acc(valid)=8.38e-01\n"
     ]
    },
    {
     "data": {
      "application/vnd.jupyter.widget-view+json": {
       "model_id": "16c9e614cfdf42bcbcad52eff6032ef3",
       "version_major": 2,
       "version_minor": 0
      },
      "text/plain": [
       "HBox(children=(IntProgress(value=0, max=1000), HTML(value='')))"
      ]
     },
     "metadata": {},
     "output_type": "display_data"
    },
    {
     "name": "stderr",
     "output_type": "stream",
     "text": [
      "Epoch 22: 3.3s to complete\n",
      "    error(train)=2.63e-01, acc(train)=9.03e-01, error(valid)=5.39e-01, acc(valid)=8.40e-01\n"
     ]
    },
    {
     "data": {
      "application/vnd.jupyter.widget-view+json": {
       "model_id": "c2c924768226486e9cbf6b2947ad835d",
       "version_major": 2,
       "version_minor": 0
      },
      "text/plain": [
       "HBox(children=(IntProgress(value=0, max=1000), HTML(value='')))"
      ]
     },
     "metadata": {},
     "output_type": "display_data"
    },
    {
     "name": "stderr",
     "output_type": "stream",
     "text": [
      "Epoch 23: 3.3s to complete\n",
      "    error(train)=2.61e-01, acc(train)=9.03e-01, error(valid)=5.53e-01, acc(valid)=8.38e-01\n"
     ]
    },
    {
     "data": {
      "application/vnd.jupyter.widget-view+json": {
       "model_id": "6899957b9fc64587b6a0546eac4fcfd8",
       "version_major": 2,
       "version_minor": 0
      },
      "text/plain": [
       "HBox(children=(IntProgress(value=0, max=1000), HTML(value='')))"
      ]
     },
     "metadata": {},
     "output_type": "display_data"
    },
    {
     "name": "stderr",
     "output_type": "stream",
     "text": [
      "Epoch 24: 3.3s to complete\n",
      "    error(train)=2.44e-01, acc(train)=9.10e-01, error(valid)=5.27e-01, acc(valid)=8.42e-01\n"
     ]
    },
    {
     "data": {
      "application/vnd.jupyter.widget-view+json": {
       "model_id": "ea79f2321300434ebc691cbbe3449706",
       "version_major": 2,
       "version_minor": 0
      },
      "text/plain": [
       "HBox(children=(IntProgress(value=0, max=1000), HTML(value='')))"
      ]
     },
     "metadata": {},
     "output_type": "display_data"
    },
    {
     "name": "stderr",
     "output_type": "stream",
     "text": [
      "Epoch 25: 3.3s to complete\n",
      "    error(train)=2.39e-01, acc(train)=9.11e-01, error(valid)=5.46e-01, acc(valid)=8.40e-01\n"
     ]
    },
    {
     "data": {
      "application/vnd.jupyter.widget-view+json": {
       "model_id": "0c483a936b344905a63bd0e1a818e6ef",
       "version_major": 2,
       "version_minor": 0
      },
      "text/plain": [
       "HBox(children=(IntProgress(value=0, max=1000), HTML(value='')))"
      ]
     },
     "metadata": {},
     "output_type": "display_data"
    },
    {
     "name": "stderr",
     "output_type": "stream",
     "text": [
      "Epoch 26: 3.7s to complete\n",
      "    error(train)=2.39e-01, acc(train)=9.10e-01, error(valid)=5.37e-01, acc(valid)=8.41e-01\n"
     ]
    },
    {
     "data": {
      "application/vnd.jupyter.widget-view+json": {
       "model_id": "2a5697fe24e543c1afec22236d2bfb42",
       "version_major": 2,
       "version_minor": 0
      },
      "text/plain": [
       "HBox(children=(IntProgress(value=0, max=1000), HTML(value='')))"
      ]
     },
     "metadata": {},
     "output_type": "display_data"
    },
    {
     "name": "stderr",
     "output_type": "stream",
     "text": [
      "Epoch 27: 3.4s to complete\n",
      "    error(train)=2.51e-01, acc(train)=9.06e-01, error(valid)=5.74e-01, acc(valid)=8.36e-01\n"
     ]
    },
    {
     "data": {
      "application/vnd.jupyter.widget-view+json": {
       "model_id": "d3fd44640cdf42649fd3067519e32a74",
       "version_major": 2,
       "version_minor": 0
      },
      "text/plain": [
       "HBox(children=(IntProgress(value=0, max=1000), HTML(value='')))"
      ]
     },
     "metadata": {},
     "output_type": "display_data"
    },
    {
     "name": "stderr",
     "output_type": "stream",
     "text": [
      "Epoch 28: 3.4s to complete\n",
      "    error(train)=2.58e-01, acc(train)=9.02e-01, error(valid)=5.82e-01, acc(valid)=8.32e-01\n"
     ]
    },
    {
     "data": {
      "application/vnd.jupyter.widget-view+json": {
       "model_id": "3dfbc4cb7aeb469d85ea93729098af26",
       "version_major": 2,
       "version_minor": 0
      },
      "text/plain": [
       "HBox(children=(IntProgress(value=0, max=1000), HTML(value='')))"
      ]
     },
     "metadata": {},
     "output_type": "display_data"
    },
    {
     "name": "stderr",
     "output_type": "stream",
     "text": [
      "Epoch 29: 3.8s to complete\n",
      "    error(train)=2.47e-01, acc(train)=9.06e-01, error(valid)=5.72e-01, acc(valid)=8.33e-01\n"
     ]
    },
    {
     "data": {
      "application/vnd.jupyter.widget-view+json": {
       "model_id": "ea150716311544009641f03fed7a80de",
       "version_major": 2,
       "version_minor": 0
      },
      "text/plain": [
       "HBox(children=(IntProgress(value=0, max=1000), HTML(value='')))"
      ]
     },
     "metadata": {},
     "output_type": "display_data"
    },
    {
     "name": "stderr",
     "output_type": "stream",
     "text": [
      "Epoch 30: 3.9s to complete\n",
      "    error(train)=2.41e-01, acc(train)=9.10e-01, error(valid)=5.77e-01, acc(valid)=8.34e-01\n"
     ]
    },
    {
     "data": {
      "application/vnd.jupyter.widget-view+json": {
       "model_id": "f988b7d2e0b14d2cbde44c0bc6ef7294",
       "version_major": 2,
       "version_minor": 0
      },
      "text/plain": [
       "HBox(children=(IntProgress(value=0, max=1000), HTML(value='')))"
      ]
     },
     "metadata": {},
     "output_type": "display_data"
    },
    {
     "name": "stderr",
     "output_type": "stream",
     "text": [
      "Epoch 31: 3.7s to complete\n",
      "    error(train)=2.37e-01, acc(train)=9.10e-01, error(valid)=5.81e-01, acc(valid)=8.36e-01\n"
     ]
    },
    {
     "data": {
      "application/vnd.jupyter.widget-view+json": {
       "model_id": "66e07ba6a46346bba50dcbc4352d78b7",
       "version_major": 2,
       "version_minor": 0
      },
      "text/plain": [
       "HBox(children=(IntProgress(value=0, max=1000), HTML(value='')))"
      ]
     },
     "metadata": {},
     "output_type": "display_data"
    },
    {
     "name": "stderr",
     "output_type": "stream",
     "text": [
      "Epoch 32: 4.1s to complete\n",
      "    error(train)=2.42e-01, acc(train)=9.07e-01, error(valid)=6.12e-01, acc(valid)=8.33e-01\n"
     ]
    },
    {
     "data": {
      "application/vnd.jupyter.widget-view+json": {
       "model_id": "236de41600fd46d8b385586696a2f87c",
       "version_major": 2,
       "version_minor": 0
      },
      "text/plain": [
       "HBox(children=(IntProgress(value=0, max=1000), HTML(value='')))"
      ]
     },
     "metadata": {},
     "output_type": "display_data"
    },
    {
     "name": "stderr",
     "output_type": "stream",
     "text": [
      "Epoch 33: 4.6s to complete\n",
      "    error(train)=2.30e-01, acc(train)=9.12e-01, error(valid)=6.05e-01, acc(valid)=8.37e-01\n"
     ]
    },
    {
     "data": {
      "application/vnd.jupyter.widget-view+json": {
       "model_id": "293ef4131a044d8c98eb27924169822d",
       "version_major": 2,
       "version_minor": 0
      },
      "text/plain": [
       "HBox(children=(IntProgress(value=0, max=1000), HTML(value='')))"
      ]
     },
     "metadata": {},
     "output_type": "display_data"
    },
    {
     "name": "stderr",
     "output_type": "stream",
     "text": [
      "Epoch 34: 3.2s to complete\n",
      "    error(train)=2.21e-01, acc(train)=9.16e-01, error(valid)=6.00e-01, acc(valid)=8.37e-01\n"
     ]
    },
    {
     "data": {
      "application/vnd.jupyter.widget-view+json": {
       "model_id": "1752dd2e22e14159a1d884b2ac15cd3b",
       "version_major": 2,
       "version_minor": 0
      },
      "text/plain": [
       "HBox(children=(IntProgress(value=0, max=1000), HTML(value='')))"
      ]
     },
     "metadata": {},
     "output_type": "display_data"
    },
    {
     "name": "stderr",
     "output_type": "stream",
     "text": [
      "Epoch 35: 3.2s to complete\n",
      "    error(train)=2.25e-01, acc(train)=9.14e-01, error(valid)=6.04e-01, acc(valid)=8.34e-01\n"
     ]
    },
    {
     "data": {
      "application/vnd.jupyter.widget-view+json": {
       "model_id": "602fd7d7fda64b87877371b6a8841982",
       "version_major": 2,
       "version_minor": 0
      },
      "text/plain": [
       "HBox(children=(IntProgress(value=0, max=1000), HTML(value='')))"
      ]
     },
     "metadata": {},
     "output_type": "display_data"
    },
    {
     "name": "stderr",
     "output_type": "stream",
     "text": [
      "Epoch 36: 3.2s to complete\n",
      "    error(train)=2.33e-01, acc(train)=9.11e-01, error(valid)=6.31e-01, acc(valid)=8.32e-01\n"
     ]
    },
    {
     "data": {
      "application/vnd.jupyter.widget-view+json": {
       "model_id": "7c72c84a896e4a3fa47d441d6e9fa3ef",
       "version_major": 2,
       "version_minor": 0
      },
      "text/plain": [
       "HBox(children=(IntProgress(value=0, max=1000), HTML(value='')))"
      ]
     },
     "metadata": {},
     "output_type": "display_data"
    },
    {
     "name": "stderr",
     "output_type": "stream",
     "text": [
      "Epoch 37: 3.2s to complete\n",
      "    error(train)=2.17e-01, acc(train)=9.16e-01, error(valid)=6.29e-01, acc(valid)=8.34e-01\n"
     ]
    },
    {
     "data": {
      "application/vnd.jupyter.widget-view+json": {
       "model_id": "9098c5ae50d64f2d88bd2a3a5811a138",
       "version_major": 2,
       "version_minor": 0
      },
      "text/plain": [
       "HBox(children=(IntProgress(value=0, max=1000), HTML(value='')))"
      ]
     },
     "metadata": {},
     "output_type": "display_data"
    },
    {
     "name": "stderr",
     "output_type": "stream",
     "text": [
      "Epoch 38: 3.2s to complete\n",
      "    error(train)=2.15e-01, acc(train)=9.17e-01, error(valid)=6.25e-01, acc(valid)=8.31e-01\n"
     ]
    },
    {
     "data": {
      "application/vnd.jupyter.widget-view+json": {
       "model_id": "c343ee89be69473a85091552b6683d33",
       "version_major": 2,
       "version_minor": 0
      },
      "text/plain": [
       "HBox(children=(IntProgress(value=0, max=1000), HTML(value='')))"
      ]
     },
     "metadata": {},
     "output_type": "display_data"
    },
    {
     "name": "stderr",
     "output_type": "stream",
     "text": [
      "Epoch 39: 3.2s to complete\n",
      "    error(train)=2.15e-01, acc(train)=9.17e-01, error(valid)=6.25e-01, acc(valid)=8.31e-01\n"
     ]
    },
    {
     "data": {
      "application/vnd.jupyter.widget-view+json": {
       "model_id": "5ba03d59f7b44db4be4ac455491a08b1",
       "version_major": 2,
       "version_minor": 0
      },
      "text/plain": [
       "HBox(children=(IntProgress(value=0, max=1000), HTML(value='')))"
      ]
     },
     "metadata": {},
     "output_type": "display_data"
    },
    {
     "name": "stderr",
     "output_type": "stream",
     "text": [
      "Epoch 40: 3.2s to complete\n",
      "    error(train)=2.08e-01, acc(train)=9.20e-01, error(valid)=6.34e-01, acc(valid)=8.36e-01\n"
     ]
    },
    {
     "data": {
      "application/vnd.jupyter.widget-view+json": {
       "model_id": "4b73a10e73e446eb81b59ce520e4274b",
       "version_major": 2,
       "version_minor": 0
      },
      "text/plain": [
       "HBox(children=(IntProgress(value=0, max=1000), HTML(value='')))"
      ]
     },
     "metadata": {},
     "output_type": "display_data"
    },
    {
     "name": "stderr",
     "output_type": "stream",
     "text": [
      "Epoch 41: 3.2s to complete\n",
      "    error(train)=2.20e-01, acc(train)=9.16e-01, error(valid)=6.74e-01, acc(valid)=8.32e-01\n"
     ]
    },
    {
     "data": {
      "application/vnd.jupyter.widget-view+json": {
       "model_id": "acfa5aa8a0c04b768f3b329685930b16",
       "version_major": 2,
       "version_minor": 0
      },
      "text/plain": [
       "HBox(children=(IntProgress(value=0, max=1000), HTML(value='')))"
      ]
     },
     "metadata": {},
     "output_type": "display_data"
    },
    {
     "name": "stderr",
     "output_type": "stream",
     "text": [
      "Epoch 42: 3.2s to complete\n",
      "    error(train)=2.08e-01, acc(train)=9.20e-01, error(valid)=6.58e-01, acc(valid)=8.29e-01\n"
     ]
    },
    {
     "data": {
      "application/vnd.jupyter.widget-view+json": {
       "model_id": "e3d70eb784d14c64aa8d440fe50feda9",
       "version_major": 2,
       "version_minor": 0
      },
      "text/plain": [
       "HBox(children=(IntProgress(value=0, max=1000), HTML(value='')))"
      ]
     },
     "metadata": {},
     "output_type": "display_data"
    },
    {
     "name": "stderr",
     "output_type": "stream",
     "text": [
      "Epoch 43: 3.3s to complete\n",
      "    error(train)=2.16e-01, acc(train)=9.16e-01, error(valid)=6.80e-01, acc(valid)=8.29e-01\n"
     ]
    },
    {
     "data": {
      "application/vnd.jupyter.widget-view+json": {
       "model_id": "c7ab01627f254e7b80aa888c9db8ca45",
       "version_major": 2,
       "version_minor": 0
      },
      "text/plain": [
       "HBox(children=(IntProgress(value=0, max=1000), HTML(value='')))"
      ]
     },
     "metadata": {},
     "output_type": "display_data"
    },
    {
     "name": "stderr",
     "output_type": "stream",
     "text": [
      "Epoch 44: 3.2s to complete\n",
      "    error(train)=2.10e-01, acc(train)=9.18e-01, error(valid)=6.70e-01, acc(valid)=8.28e-01\n"
     ]
    },
    {
     "data": {
      "application/vnd.jupyter.widget-view+json": {
       "model_id": "ab23a5a56568460f832cd11722e5b313",
       "version_major": 2,
       "version_minor": 0
      },
      "text/plain": [
       "HBox(children=(IntProgress(value=0, max=1000), HTML(value='')))"
      ]
     },
     "metadata": {},
     "output_type": "display_data"
    },
    {
     "name": "stderr",
     "output_type": "stream",
     "text": [
      "Epoch 45: 3.2s to complete\n",
      "    error(train)=1.98e-01, acc(train)=9.24e-01, error(valid)=6.64e-01, acc(valid)=8.30e-01\n"
     ]
    },
    {
     "data": {
      "application/vnd.jupyter.widget-view+json": {
       "model_id": "e1e022bda48442b5a88de3f3de54601f",
       "version_major": 2,
       "version_minor": 0
      },
      "text/plain": [
       "HBox(children=(IntProgress(value=0, max=1000), HTML(value='')))"
      ]
     },
     "metadata": {},
     "output_type": "display_data"
    },
    {
     "name": "stderr",
     "output_type": "stream",
     "text": [
      "Epoch 46: 3.2s to complete\n",
      "    error(train)=2.00e-01, acc(train)=9.21e-01, error(valid)=6.96e-01, acc(valid)=8.26e-01\n"
     ]
    },
    {
     "data": {
      "application/vnd.jupyter.widget-view+json": {
       "model_id": "1fe61bfa1bed4cc591b3354952a92c51",
       "version_major": 2,
       "version_minor": 0
      },
      "text/plain": [
       "HBox(children=(IntProgress(value=0, max=1000), HTML(value='')))"
      ]
     },
     "metadata": {},
     "output_type": "display_data"
    },
    {
     "name": "stderr",
     "output_type": "stream",
     "text": [
      "Epoch 47: 3.2s to complete\n",
      "    error(train)=2.02e-01, acc(train)=9.21e-01, error(valid)=7.08e-01, acc(valid)=8.32e-01\n"
     ]
    },
    {
     "data": {
      "application/vnd.jupyter.widget-view+json": {
       "model_id": "cfcfc494572d486187fdfec9774393d8",
       "version_major": 2,
       "version_minor": 0
      },
      "text/plain": [
       "HBox(children=(IntProgress(value=0, max=1000), HTML(value='')))"
      ]
     },
     "metadata": {},
     "output_type": "display_data"
    },
    {
     "name": "stderr",
     "output_type": "stream",
     "text": [
      "Epoch 48: 3.2s to complete\n",
      "    error(train)=1.98e-01, acc(train)=9.23e-01, error(valid)=7.28e-01, acc(valid)=8.31e-01\n"
     ]
    },
    {
     "data": {
      "application/vnd.jupyter.widget-view+json": {
       "model_id": "707c8e522c524105b8af7ec6937f6573",
       "version_major": 2,
       "version_minor": 0
      },
      "text/plain": [
       "HBox(children=(IntProgress(value=0, max=1000), HTML(value='')))"
      ]
     },
     "metadata": {},
     "output_type": "display_data"
    },
    {
     "name": "stderr",
     "output_type": "stream",
     "text": [
      "Epoch 49: 3.3s to complete\n",
      "    error(train)=1.96e-01, acc(train)=9.23e-01, error(valid)=7.28e-01, acc(valid)=8.28e-01\n"
     ]
    },
    {
     "data": {
      "application/vnd.jupyter.widget-view+json": {
       "model_id": "abf96ec06afa44cdbcf6dfe775aebc00",
       "version_major": 2,
       "version_minor": 0
      },
      "text/plain": [
       "HBox(children=(IntProgress(value=0, max=1000), HTML(value='')))"
      ]
     },
     "metadata": {},
     "output_type": "display_data"
    },
    {
     "name": "stderr",
     "output_type": "stream",
     "text": [
      "Epoch 50: 3.2s to complete\n",
      "    error(train)=1.91e-01, acc(train)=9.23e-01, error(valid)=7.06e-01, acc(valid)=8.27e-01\n"
     ]
    },
    {
     "data": {
      "application/vnd.jupyter.widget-view+json": {
       "model_id": "87fae504f4164613b455929727ce6566",
       "version_major": 2,
       "version_minor": 0
      },
      "text/plain": [
       "HBox(children=(IntProgress(value=0, max=1000), HTML(value='')))"
      ]
     },
     "metadata": {},
     "output_type": "display_data"
    },
    {
     "name": "stderr",
     "output_type": "stream",
     "text": [
      "Epoch 51: 3.2s to complete\n",
      "    error(train)=1.90e-01, acc(train)=9.26e-01, error(valid)=7.02e-01, acc(valid)=8.28e-01\n"
     ]
    },
    {
     "data": {
      "application/vnd.jupyter.widget-view+json": {
       "model_id": "9dea2254e9f34fcbb9239fdfdf27a295",
       "version_major": 2,
       "version_minor": 0
      },
      "text/plain": [
       "HBox(children=(IntProgress(value=0, max=1000), HTML(value='')))"
      ]
     },
     "metadata": {},
     "output_type": "display_data"
    },
    {
     "name": "stderr",
     "output_type": "stream",
     "text": [
      "Epoch 52: 3.2s to complete\n",
      "    error(train)=1.88e-01, acc(train)=9.26e-01, error(valid)=7.29e-01, acc(valid)=8.29e-01\n"
     ]
    },
    {
     "data": {
      "application/vnd.jupyter.widget-view+json": {
       "model_id": "5ba3feffbed941d780d692bf2e39bb6c",
       "version_major": 2,
       "version_minor": 0
      },
      "text/plain": [
       "HBox(children=(IntProgress(value=0, max=1000), HTML(value='')))"
      ]
     },
     "metadata": {},
     "output_type": "display_data"
    },
    {
     "name": "stderr",
     "output_type": "stream",
     "text": [
      "Epoch 53: 3.2s to complete\n",
      "    error(train)=1.82e-01, acc(train)=9.29e-01, error(valid)=7.35e-01, acc(valid)=8.30e-01\n"
     ]
    },
    {
     "data": {
      "application/vnd.jupyter.widget-view+json": {
       "model_id": "36c0d9d51bba479592a5ecc6299d0770",
       "version_major": 2,
       "version_minor": 0
      },
      "text/plain": [
       "HBox(children=(IntProgress(value=0, max=1000), HTML(value='')))"
      ]
     },
     "metadata": {},
     "output_type": "display_data"
    },
    {
     "name": "stderr",
     "output_type": "stream",
     "text": [
      "Epoch 54: 3.2s to complete\n",
      "    error(train)=1.86e-01, acc(train)=9.27e-01, error(valid)=7.52e-01, acc(valid)=8.28e-01\n"
     ]
    },
    {
     "data": {
      "application/vnd.jupyter.widget-view+json": {
       "model_id": "55c9884c35b444baae2f07923e51a31a",
       "version_major": 2,
       "version_minor": 0
      },
      "text/plain": [
       "HBox(children=(IntProgress(value=0, max=1000), HTML(value='')))"
      ]
     },
     "metadata": {},
     "output_type": "display_data"
    },
    {
     "name": "stderr",
     "output_type": "stream",
     "text": [
      "Epoch 55: 3.1s to complete\n",
      "    error(train)=1.77e-01, acc(train)=9.29e-01, error(valid)=7.37e-01, acc(valid)=8.27e-01\n"
     ]
    },
    {
     "data": {
      "application/vnd.jupyter.widget-view+json": {
       "model_id": "ee853732e57545f9a5fae3a66f5e793b",
       "version_major": 2,
       "version_minor": 0
      },
      "text/plain": [
       "HBox(children=(IntProgress(value=0, max=1000), HTML(value='')))"
      ]
     },
     "metadata": {},
     "output_type": "display_data"
    },
    {
     "name": "stderr",
     "output_type": "stream",
     "text": [
      "Epoch 56: 3.2s to complete\n",
      "    error(train)=1.78e-01, acc(train)=9.30e-01, error(valid)=7.43e-01, acc(valid)=8.26e-01\n"
     ]
    },
    {
     "data": {
      "application/vnd.jupyter.widget-view+json": {
       "model_id": "e950b33c78044c95a3a27739809ecf82",
       "version_major": 2,
       "version_minor": 0
      },
      "text/plain": [
       "HBox(children=(IntProgress(value=0, max=1000), HTML(value='')))"
      ]
     },
     "metadata": {},
     "output_type": "display_data"
    },
    {
     "name": "stderr",
     "output_type": "stream",
     "text": [
      "Epoch 57: 3.8s to complete\n",
      "    error(train)=1.74e-01, acc(train)=9.31e-01, error(valid)=7.23e-01, acc(valid)=8.30e-01\n"
     ]
    },
    {
     "data": {
      "application/vnd.jupyter.widget-view+json": {
       "model_id": "cef626c88d5a4c529a42ce7eae1431ca",
       "version_major": 2,
       "version_minor": 0
      },
      "text/plain": [
       "HBox(children=(IntProgress(value=0, max=1000), HTML(value='')))"
      ]
     },
     "metadata": {},
     "output_type": "display_data"
    },
    {
     "name": "stderr",
     "output_type": "stream",
     "text": [
      "Epoch 58: 4.7s to complete\n",
      "    error(train)=1.69e-01, acc(train)=9.33e-01, error(valid)=7.47e-01, acc(valid)=8.26e-01\n"
     ]
    },
    {
     "data": {
      "application/vnd.jupyter.widget-view+json": {
       "model_id": "6645fb9b02d9440faa0c6c13b3161b52",
       "version_major": 2,
       "version_minor": 0
      },
      "text/plain": [
       "HBox(children=(IntProgress(value=0, max=1000), HTML(value='')))"
      ]
     },
     "metadata": {},
     "output_type": "display_data"
    },
    {
     "name": "stderr",
     "output_type": "stream",
     "text": [
      "Epoch 59: 3.1s to complete\n",
      "    error(train)=1.68e-01, acc(train)=9.33e-01, error(valid)=7.48e-01, acc(valid)=8.31e-01\n"
     ]
    },
    {
     "data": {
      "application/vnd.jupyter.widget-view+json": {
       "model_id": "2ff6283c57d24fb7afe9035da693e672",
       "version_major": 2,
       "version_minor": 0
      },
      "text/plain": [
       "HBox(children=(IntProgress(value=0, max=1000), HTML(value='')))"
      ]
     },
     "metadata": {},
     "output_type": "display_data"
    },
    {
     "name": "stderr",
     "output_type": "stream",
     "text": [
      "Epoch 60: 3.2s to complete\n",
      "    error(train)=1.74e-01, acc(train)=9.30e-01, error(valid)=7.54e-01, acc(valid)=8.24e-01\n"
     ]
    },
    {
     "data": {
      "application/vnd.jupyter.widget-view+json": {
       "model_id": "da20f72476254131a61e974e59e3d621",
       "version_major": 2,
       "version_minor": 0
      },
      "text/plain": [
       "HBox(children=(IntProgress(value=0, max=1000), HTML(value='')))"
      ]
     },
     "metadata": {},
     "output_type": "display_data"
    },
    {
     "name": "stderr",
     "output_type": "stream",
     "text": [
      "Epoch 61: 3.3s to complete\n",
      "    error(train)=1.72e-01, acc(train)=9.32e-01, error(valid)=7.98e-01, acc(valid)=8.27e-01\n"
     ]
    },
    {
     "data": {
      "application/vnd.jupyter.widget-view+json": {
       "model_id": "e0e457a6888245f6b668f553e2834064",
       "version_major": 2,
       "version_minor": 0
      },
      "text/plain": [
       "HBox(children=(IntProgress(value=0, max=1000), HTML(value='')))"
      ]
     },
     "metadata": {},
     "output_type": "display_data"
    },
    {
     "name": "stderr",
     "output_type": "stream",
     "text": [
      "Epoch 62: 3.2s to complete\n",
      "    error(train)=1.63e-01, acc(train)=9.36e-01, error(valid)=7.79e-01, acc(valid)=8.25e-01\n"
     ]
    },
    {
     "data": {
      "application/vnd.jupyter.widget-view+json": {
       "model_id": "fbc47875f61e441fb4332cb148d67d0b",
       "version_major": 2,
       "version_minor": 0
      },
      "text/plain": [
       "HBox(children=(IntProgress(value=0, max=1000), HTML(value='')))"
      ]
     },
     "metadata": {},
     "output_type": "display_data"
    },
    {
     "name": "stderr",
     "output_type": "stream",
     "text": [
      "Epoch 63: 3.2s to complete\n",
      "    error(train)=1.60e-01, acc(train)=9.36e-01, error(valid)=7.86e-01, acc(valid)=8.28e-01\n"
     ]
    },
    {
     "data": {
      "application/vnd.jupyter.widget-view+json": {
       "model_id": "83761e1814684dc29ae0840663942128",
       "version_major": 2,
       "version_minor": 0
      },
      "text/plain": [
       "HBox(children=(IntProgress(value=0, max=1000), HTML(value='')))"
      ]
     },
     "metadata": {},
     "output_type": "display_data"
    },
    {
     "name": "stderr",
     "output_type": "stream",
     "text": [
      "Epoch 64: 3.2s to complete\n",
      "    error(train)=1.59e-01, acc(train)=9.37e-01, error(valid)=7.77e-01, acc(valid)=8.28e-01\n"
     ]
    },
    {
     "data": {
      "application/vnd.jupyter.widget-view+json": {
       "model_id": "e28094c0825d49dd912b5555ee73b7b1",
       "version_major": 2,
       "version_minor": 0
      },
      "text/plain": [
       "HBox(children=(IntProgress(value=0, max=1000), HTML(value='')))"
      ]
     },
     "metadata": {},
     "output_type": "display_data"
    },
    {
     "name": "stderr",
     "output_type": "stream",
     "text": [
      "Epoch 65: 3.2s to complete\n",
      "    error(train)=1.54e-01, acc(train)=9.39e-01, error(valid)=7.67e-01, acc(valid)=8.26e-01\n"
     ]
    },
    {
     "data": {
      "application/vnd.jupyter.widget-view+json": {
       "model_id": "4fa1ef9989714ee88f65d5cee3656e14",
       "version_major": 2,
       "version_minor": 0
      },
      "text/plain": [
       "HBox(children=(IntProgress(value=0, max=1000), HTML(value='')))"
      ]
     },
     "metadata": {},
     "output_type": "display_data"
    },
    {
     "name": "stderr",
     "output_type": "stream",
     "text": [
      "Epoch 66: 3.3s to complete\n",
      "    error(train)=1.64e-01, acc(train)=9.34e-01, error(valid)=8.10e-01, acc(valid)=8.26e-01\n"
     ]
    },
    {
     "data": {
      "application/vnd.jupyter.widget-view+json": {
       "model_id": "598bb2cb6d374d32a3ab5e1b13b3b6a7",
       "version_major": 2,
       "version_minor": 0
      },
      "text/plain": [
       "HBox(children=(IntProgress(value=0, max=1000), HTML(value='')))"
      ]
     },
     "metadata": {},
     "output_type": "display_data"
    },
    {
     "name": "stderr",
     "output_type": "stream",
     "text": [
      "Epoch 67: 3.3s to complete\n",
      "    error(train)=1.49e-01, acc(train)=9.41e-01, error(valid)=8.01e-01, acc(valid)=8.28e-01\n"
     ]
    },
    {
     "data": {
      "application/vnd.jupyter.widget-view+json": {
       "model_id": "ec08aa0df5f146fcb57de813802a1dfa",
       "version_major": 2,
       "version_minor": 0
      },
      "text/plain": [
       "HBox(children=(IntProgress(value=0, max=1000), HTML(value='')))"
      ]
     },
     "metadata": {},
     "output_type": "display_data"
    },
    {
     "name": "stderr",
     "output_type": "stream",
     "text": [
      "Epoch 68: 3.3s to complete\n",
      "    error(train)=1.53e-01, acc(train)=9.39e-01, error(valid)=8.16e-01, acc(valid)=8.25e-01\n"
     ]
    },
    {
     "data": {
      "application/vnd.jupyter.widget-view+json": {
       "model_id": "6f84ebbb50154abea7c0e3174ba6a7a9",
       "version_major": 2,
       "version_minor": 0
      },
      "text/plain": [
       "HBox(children=(IntProgress(value=0, max=1000), HTML(value='')))"
      ]
     },
     "metadata": {},
     "output_type": "display_data"
    },
    {
     "name": "stderr",
     "output_type": "stream",
     "text": [
      "Epoch 69: 3.3s to complete\n",
      "    error(train)=1.52e-01, acc(train)=9.40e-01, error(valid)=8.32e-01, acc(valid)=8.25e-01\n"
     ]
    },
    {
     "data": {
      "application/vnd.jupyter.widget-view+json": {
       "model_id": "69af14d2f62b440caf7e21ae94c956a4",
       "version_major": 2,
       "version_minor": 0
      },
      "text/plain": [
       "HBox(children=(IntProgress(value=0, max=1000), HTML(value='')))"
      ]
     },
     "metadata": {},
     "output_type": "display_data"
    },
    {
     "name": "stderr",
     "output_type": "stream",
     "text": [
      "Epoch 70: 3.3s to complete\n",
      "    error(train)=1.47e-01, acc(train)=9.41e-01, error(valid)=8.34e-01, acc(valid)=8.24e-01\n"
     ]
    },
    {
     "data": {
      "application/vnd.jupyter.widget-view+json": {
       "model_id": "7f03b2bead8549a0b5049375e1abc17e",
       "version_major": 2,
       "version_minor": 0
      },
      "text/plain": [
       "HBox(children=(IntProgress(value=0, max=1000), HTML(value='')))"
      ]
     },
     "metadata": {},
     "output_type": "display_data"
    },
    {
     "name": "stderr",
     "output_type": "stream",
     "text": [
      "Epoch 71: 3.3s to complete\n",
      "    error(train)=1.46e-01, acc(train)=9.43e-01, error(valid)=8.17e-01, acc(valid)=8.25e-01\n"
     ]
    },
    {
     "data": {
      "application/vnd.jupyter.widget-view+json": {
       "model_id": "297a06cc37344cb3b3d5f3268d15823b",
       "version_major": 2,
       "version_minor": 0
      },
      "text/plain": [
       "HBox(children=(IntProgress(value=0, max=1000), HTML(value='')))"
      ]
     },
     "metadata": {},
     "output_type": "display_data"
    },
    {
     "name": "stderr",
     "output_type": "stream",
     "text": [
      "Epoch 72: 3.3s to complete\n",
      "    error(train)=1.44e-01, acc(train)=9.42e-01, error(valid)=8.35e-01, acc(valid)=8.26e-01\n"
     ]
    },
    {
     "data": {
      "application/vnd.jupyter.widget-view+json": {
       "model_id": "287f9d26a39e43c5a12264b9e473ed5b",
       "version_major": 2,
       "version_minor": 0
      },
      "text/plain": [
       "HBox(children=(IntProgress(value=0, max=1000), HTML(value='')))"
      ]
     },
     "metadata": {},
     "output_type": "display_data"
    },
    {
     "name": "stderr",
     "output_type": "stream",
     "text": [
      "Epoch 73: 3.3s to complete\n",
      "    error(train)=1.40e-01, acc(train)=9.45e-01, error(valid)=8.39e-01, acc(valid)=8.26e-01\n"
     ]
    },
    {
     "data": {
      "application/vnd.jupyter.widget-view+json": {
       "model_id": "cd77759b8e2a4fcf8be60b111bd57a3a",
       "version_major": 2,
       "version_minor": 0
      },
      "text/plain": [
       "HBox(children=(IntProgress(value=0, max=1000), HTML(value='')))"
      ]
     },
     "metadata": {},
     "output_type": "display_data"
    },
    {
     "name": "stderr",
     "output_type": "stream",
     "text": [
      "Epoch 74: 3.3s to complete\n",
      "    error(train)=1.44e-01, acc(train)=9.43e-01, error(valid)=8.16e-01, acc(valid)=8.25e-01\n"
     ]
    },
    {
     "data": {
      "application/vnd.jupyter.widget-view+json": {
       "model_id": "76aa467f952c4be483eddbb805d687e6",
       "version_major": 2,
       "version_minor": 0
      },
      "text/plain": [
       "HBox(children=(IntProgress(value=0, max=1000), HTML(value='')))"
      ]
     },
     "metadata": {},
     "output_type": "display_data"
    },
    {
     "name": "stderr",
     "output_type": "stream",
     "text": [
      "Epoch 75: 3.4s to complete\n",
      "    error(train)=1.47e-01, acc(train)=9.41e-01, error(valid)=8.40e-01, acc(valid)=8.22e-01\n"
     ]
    },
    {
     "data": {
      "application/vnd.jupyter.widget-view+json": {
       "model_id": "5f5eaad2137b425880d9c32efae8c4d7",
       "version_major": 2,
       "version_minor": 0
      },
      "text/plain": [
       "HBox(children=(IntProgress(value=0, max=1000), HTML(value='')))"
      ]
     },
     "metadata": {},
     "output_type": "display_data"
    },
    {
     "name": "stderr",
     "output_type": "stream",
     "text": [
      "Epoch 76: 3.4s to complete\n",
      "    error(train)=1.42e-01, acc(train)=9.45e-01, error(valid)=8.65e-01, acc(valid)=8.23e-01\n"
     ]
    },
    {
     "data": {
      "application/vnd.jupyter.widget-view+json": {
       "model_id": "90be4578906b427cbcdd5bff85b33e58",
       "version_major": 2,
       "version_minor": 0
      },
      "text/plain": [
       "HBox(children=(IntProgress(value=0, max=1000), HTML(value='')))"
      ]
     },
     "metadata": {},
     "output_type": "display_data"
    },
    {
     "name": "stderr",
     "output_type": "stream",
     "text": [
      "Epoch 77: 3.9s to complete\n",
      "    error(train)=1.51e-01, acc(train)=9.40e-01, error(valid)=8.69e-01, acc(valid)=8.21e-01\n"
     ]
    },
    {
     "data": {
      "application/vnd.jupyter.widget-view+json": {
       "model_id": "5a9f61936dd34a1fa93f64b0e6478bf3",
       "version_major": 2,
       "version_minor": 0
      },
      "text/plain": [
       "HBox(children=(IntProgress(value=0, max=1000), HTML(value='')))"
      ]
     },
     "metadata": {},
     "output_type": "display_data"
    },
    {
     "name": "stderr",
     "output_type": "stream",
     "text": [
      "Epoch 78: 3.4s to complete\n",
      "    error(train)=1.42e-01, acc(train)=9.44e-01, error(valid)=8.49e-01, acc(valid)=8.23e-01\n"
     ]
    },
    {
     "data": {
      "application/vnd.jupyter.widget-view+json": {
       "model_id": "fbd66799ab2740489c5a54bbda965533",
       "version_major": 2,
       "version_minor": 0
      },
      "text/plain": [
       "HBox(children=(IntProgress(value=0, max=1000), HTML(value='')))"
      ]
     },
     "metadata": {},
     "output_type": "display_data"
    },
    {
     "name": "stderr",
     "output_type": "stream",
     "text": [
      "Epoch 79: 3.4s to complete\n",
      "    error(train)=1.42e-01, acc(train)=9.43e-01, error(valid)=8.80e-01, acc(valid)=8.22e-01\n"
     ]
    },
    {
     "data": {
      "application/vnd.jupyter.widget-view+json": {
       "model_id": "1478826e83db4d57bbf49aec13ecd3cf",
       "version_major": 2,
       "version_minor": 0
      },
      "text/plain": [
       "HBox(children=(IntProgress(value=0, max=1000), HTML(value='')))"
      ]
     },
     "metadata": {},
     "output_type": "display_data"
    },
    {
     "name": "stderr",
     "output_type": "stream",
     "text": [
      "Epoch 80: 3.4s to complete\n",
      "    error(train)=1.30e-01, acc(train)=9.49e-01, error(valid)=8.71e-01, acc(valid)=8.27e-01\n"
     ]
    },
    {
     "data": {
      "application/vnd.jupyter.widget-view+json": {
       "model_id": "e5e172fba44c4b03bb07f64583a9636a",
       "version_major": 2,
       "version_minor": 0
      },
      "text/plain": [
       "HBox(children=(IntProgress(value=0, max=1000), HTML(value='')))"
      ]
     },
     "metadata": {},
     "output_type": "display_data"
    },
    {
     "name": "stderr",
     "output_type": "stream",
     "text": [
      "Epoch 81: 3.4s to complete\n",
      "    error(train)=1.30e-01, acc(train)=9.49e-01, error(valid)=8.64e-01, acc(valid)=8.22e-01\n"
     ]
    },
    {
     "data": {
      "application/vnd.jupyter.widget-view+json": {
       "model_id": "84342577f996448ca131133abce0287a",
       "version_major": 2,
       "version_minor": 0
      },
      "text/plain": [
       "HBox(children=(IntProgress(value=0, max=1000), HTML(value='')))"
      ]
     },
     "metadata": {},
     "output_type": "display_data"
    },
    {
     "name": "stderr",
     "output_type": "stream",
     "text": [
      "Epoch 82: 3.2s to complete\n",
      "    error(train)=1.33e-01, acc(train)=9.47e-01, error(valid)=8.66e-01, acc(valid)=8.26e-01\n"
     ]
    },
    {
     "data": {
      "application/vnd.jupyter.widget-view+json": {
       "model_id": "ba7dd582a2014261b61b5980579d58c0",
       "version_major": 2,
       "version_minor": 0
      },
      "text/plain": [
       "HBox(children=(IntProgress(value=0, max=1000), HTML(value='')))"
      ]
     },
     "metadata": {},
     "output_type": "display_data"
    },
    {
     "name": "stderr",
     "output_type": "stream",
     "text": [
      "Epoch 83: 3.2s to complete\n",
      "    error(train)=1.26e-01, acc(train)=9.49e-01, error(valid)=8.88e-01, acc(valid)=8.26e-01\n"
     ]
    },
    {
     "data": {
      "application/vnd.jupyter.widget-view+json": {
       "model_id": "db503209c65b451cbad4f3670fd5613d",
       "version_major": 2,
       "version_minor": 0
      },
      "text/plain": [
       "HBox(children=(IntProgress(value=0, max=1000), HTML(value='')))"
      ]
     },
     "metadata": {},
     "output_type": "display_data"
    },
    {
     "name": "stderr",
     "output_type": "stream",
     "text": [
      "Epoch 84: 3.2s to complete\n",
      "    error(train)=1.28e-01, acc(train)=9.49e-01, error(valid)=8.91e-01, acc(valid)=8.25e-01\n"
     ]
    },
    {
     "data": {
      "application/vnd.jupyter.widget-view+json": {
       "model_id": "63bd4a4fba9142a889dcaef30b8d6c8c",
       "version_major": 2,
       "version_minor": 0
      },
      "text/plain": [
       "HBox(children=(IntProgress(value=0, max=1000), HTML(value='')))"
      ]
     },
     "metadata": {},
     "output_type": "display_data"
    },
    {
     "name": "stderr",
     "output_type": "stream",
     "text": [
      "Epoch 85: 3.1s to complete\n",
      "    error(train)=1.22e-01, acc(train)=9.53e-01, error(valid)=9.08e-01, acc(valid)=8.23e-01\n"
     ]
    },
    {
     "data": {
      "application/vnd.jupyter.widget-view+json": {
       "model_id": "b35a3a3072bc435d84a0c4ecbb78c784",
       "version_major": 2,
       "version_minor": 0
      },
      "text/plain": [
       "HBox(children=(IntProgress(value=0, max=1000), HTML(value='')))"
      ]
     },
     "metadata": {},
     "output_type": "display_data"
    },
    {
     "name": "stderr",
     "output_type": "stream",
     "text": [
      "Epoch 86: 3.8s to complete\n",
      "    error(train)=1.18e-01, acc(train)=9.54e-01, error(valid)=9.13e-01, acc(valid)=8.22e-01\n"
     ]
    },
    {
     "data": {
      "application/vnd.jupyter.widget-view+json": {
       "model_id": "34f5580ef6f34a7b88c7765ba7328034",
       "version_major": 2,
       "version_minor": 0
      },
      "text/plain": [
       "HBox(children=(IntProgress(value=0, max=1000), HTML(value='')))"
      ]
     },
     "metadata": {},
     "output_type": "display_data"
    },
    {
     "name": "stderr",
     "output_type": "stream",
     "text": [
      "Epoch 87: 3.8s to complete\n",
      "    error(train)=1.17e-01, acc(train)=9.54e-01, error(valid)=8.81e-01, acc(valid)=8.25e-01\n"
     ]
    },
    {
     "data": {
      "application/vnd.jupyter.widget-view+json": {
       "model_id": "669ceea1516c4dae8ddb0a0c7559aa64",
       "version_major": 2,
       "version_minor": 0
      },
      "text/plain": [
       "HBox(children=(IntProgress(value=0, max=1000), HTML(value='')))"
      ]
     },
     "metadata": {},
     "output_type": "display_data"
    },
    {
     "name": "stderr",
     "output_type": "stream",
     "text": [
      "Epoch 88: 3.7s to complete\n",
      "    error(train)=1.20e-01, acc(train)=9.52e-01, error(valid)=9.21e-01, acc(valid)=8.23e-01\n"
     ]
    },
    {
     "data": {
      "application/vnd.jupyter.widget-view+json": {
       "model_id": "d0db3d4dacf244289bff49ce91803e40",
       "version_major": 2,
       "version_minor": 0
      },
      "text/plain": [
       "HBox(children=(IntProgress(value=0, max=1000), HTML(value='')))"
      ]
     },
     "metadata": {},
     "output_type": "display_data"
    },
    {
     "name": "stderr",
     "output_type": "stream",
     "text": [
      "Epoch 89: 3.6s to complete\n",
      "    error(train)=1.28e-01, acc(train)=9.50e-01, error(valid)=9.00e-01, acc(valid)=8.21e-01\n"
     ]
    },
    {
     "data": {
      "application/vnd.jupyter.widget-view+json": {
       "model_id": "191c0c625567464886f0e2c714422ef2",
       "version_major": 2,
       "version_minor": 0
      },
      "text/plain": [
       "HBox(children=(IntProgress(value=0, max=1000), HTML(value='')))"
      ]
     },
     "metadata": {},
     "output_type": "display_data"
    },
    {
     "name": "stderr",
     "output_type": "stream",
     "text": [
      "Epoch 90: 3.4s to complete\n",
      "    error(train)=1.18e-01, acc(train)=9.53e-01, error(valid)=9.15e-01, acc(valid)=8.23e-01\n"
     ]
    },
    {
     "data": {
      "application/vnd.jupyter.widget-view+json": {
       "model_id": "37ed12c47fb340fa808d9ed4ec1068e6",
       "version_major": 2,
       "version_minor": 0
      },
      "text/plain": [
       "HBox(children=(IntProgress(value=0, max=1000), HTML(value='')))"
      ]
     },
     "metadata": {},
     "output_type": "display_data"
    },
    {
     "name": "stderr",
     "output_type": "stream",
     "text": [
      "Epoch 91: 3.7s to complete\n",
      "    error(train)=1.15e-01, acc(train)=9.56e-01, error(valid)=9.08e-01, acc(valid)=8.23e-01\n"
     ]
    },
    {
     "data": {
      "application/vnd.jupyter.widget-view+json": {
       "model_id": "d5f71a6e4cd6413982dc3ab2a78e702f",
       "version_major": 2,
       "version_minor": 0
      },
      "text/plain": [
       "HBox(children=(IntProgress(value=0, max=1000), HTML(value='')))"
      ]
     },
     "metadata": {},
     "output_type": "display_data"
    },
    {
     "name": "stderr",
     "output_type": "stream",
     "text": [
      "Epoch 92: 3.4s to complete\n",
      "    error(train)=1.16e-01, acc(train)=9.54e-01, error(valid)=9.12e-01, acc(valid)=8.26e-01\n"
     ]
    },
    {
     "data": {
      "application/vnd.jupyter.widget-view+json": {
       "model_id": "d7d8145196fb4979973299236222d991",
       "version_major": 2,
       "version_minor": 0
      },
      "text/plain": [
       "HBox(children=(IntProgress(value=0, max=1000), HTML(value='')))"
      ]
     },
     "metadata": {},
     "output_type": "display_data"
    },
    {
     "name": "stderr",
     "output_type": "stream",
     "text": [
      "Epoch 93: 3.5s to complete\n",
      "    error(train)=1.16e-01, acc(train)=9.55e-01, error(valid)=9.24e-01, acc(valid)=8.21e-01\n"
     ]
    },
    {
     "data": {
      "application/vnd.jupyter.widget-view+json": {
       "model_id": "aaa88a0c0ae4417484d60429e62955e8",
       "version_major": 2,
       "version_minor": 0
      },
      "text/plain": [
       "HBox(children=(IntProgress(value=0, max=1000), HTML(value='')))"
      ]
     },
     "metadata": {},
     "output_type": "display_data"
    },
    {
     "name": "stderr",
     "output_type": "stream",
     "text": [
      "Epoch 94: 3.5s to complete\n",
      "    error(train)=1.14e-01, acc(train)=9.55e-01, error(valid)=9.15e-01, acc(valid)=8.24e-01\n"
     ]
    },
    {
     "data": {
      "application/vnd.jupyter.widget-view+json": {
       "model_id": "b4e7a8349690426d92c2e26dd02c1577",
       "version_major": 2,
       "version_minor": 0
      },
      "text/plain": [
       "HBox(children=(IntProgress(value=0, max=1000), HTML(value='')))"
      ]
     },
     "metadata": {},
     "output_type": "display_data"
    },
    {
     "name": "stderr",
     "output_type": "stream",
     "text": [
      "Epoch 95: 3.5s to complete\n",
      "    error(train)=1.17e-01, acc(train)=9.54e-01, error(valid)=9.76e-01, acc(valid)=8.23e-01\n"
     ]
    },
    {
     "data": {
      "application/vnd.jupyter.widget-view+json": {
       "model_id": "5c4effa8f1cb44c5997ca0b6b3dfb45a",
       "version_major": 2,
       "version_minor": 0
      },
      "text/plain": [
       "HBox(children=(IntProgress(value=0, max=1000), HTML(value='')))"
      ]
     },
     "metadata": {},
     "output_type": "display_data"
    },
    {
     "name": "stderr",
     "output_type": "stream",
     "text": [
      "Epoch 96: 3.9s to complete\n",
      "    error(train)=1.11e-01, acc(train)=9.56e-01, error(valid)=9.46e-01, acc(valid)=8.23e-01\n"
     ]
    },
    {
     "data": {
      "application/vnd.jupyter.widget-view+json": {
       "model_id": "8f4c1e44283c4c2d8de8f9ed1b1da974",
       "version_major": 2,
       "version_minor": 0
      },
      "text/plain": [
       "HBox(children=(IntProgress(value=0, max=1000), HTML(value='')))"
      ]
     },
     "metadata": {},
     "output_type": "display_data"
    },
    {
     "name": "stderr",
     "output_type": "stream",
     "text": [
      "Epoch 97: 3.6s to complete\n",
      "    error(train)=1.10e-01, acc(train)=9.59e-01, error(valid)=9.20e-01, acc(valid)=8.23e-01\n"
     ]
    },
    {
     "data": {
      "application/vnd.jupyter.widget-view+json": {
       "model_id": "b8fef55c739a4e6094178b7942ab2d80",
       "version_major": 2,
       "version_minor": 0
      },
      "text/plain": [
       "HBox(children=(IntProgress(value=0, max=1000), HTML(value='')))"
      ]
     },
     "metadata": {},
     "output_type": "display_data"
    },
    {
     "name": "stderr",
     "output_type": "stream",
     "text": [
      "Epoch 98: 3.9s to complete\n",
      "    error(train)=1.15e-01, acc(train)=9.54e-01, error(valid)=9.53e-01, acc(valid)=8.25e-01\n"
     ]
    },
    {
     "data": {
      "application/vnd.jupyter.widget-view+json": {
       "model_id": "1a53c87c9d0840ccb1940dd70e47273c",
       "version_major": 2,
       "version_minor": 0
      },
      "text/plain": [
       "HBox(children=(IntProgress(value=0, max=1000), HTML(value='')))"
      ]
     },
     "metadata": {},
     "output_type": "display_data"
    },
    {
     "name": "stderr",
     "output_type": "stream",
     "text": [
      "Epoch 99: 3.6s to complete\n",
      "    error(train)=1.04e-01, acc(train)=9.62e-01, error(valid)=9.17e-01, acc(valid)=8.22e-01\n"
     ]
    },
    {
     "data": {
      "application/vnd.jupyter.widget-view+json": {
       "model_id": "77e4bc31c91f45a7b36baba8b2c3dabb",
       "version_major": 2,
       "version_minor": 0
      },
      "text/plain": [
       "HBox(children=(IntProgress(value=0, max=1000), HTML(value='')))"
      ]
     },
     "metadata": {},
     "output_type": "display_data"
    },
    {
     "name": "stderr",
     "output_type": "stream",
     "text": [
      "Epoch 100: 3.5s to complete\n",
      "    error(train)=1.05e-01, acc(train)=9.59e-01, error(valid)=9.58e-01, acc(valid)=8.22e-01\n"
     ]
    },
    {
     "name": "stdout",
     "output_type": "stream",
     "text": [
      "\n",
      "0.001    0.9   0.9   (array([18]),)   0.8443037974683544\n"
     ]
    },
    {
     "data": {
      "image/png": "[encoded data removed]",
      "text/plain": [
       "<Figure size 576x288 with 1 Axes>"
      ]
     },
     "metadata": {
      "needs_background": "light"
     },
     "output_type": "display_data"
    },
    {
     "data": {
      "image/png": "[encoded data removed]",
      "text/plain": [
       "<Figure size 576x288 with 1 Axes>"
      ]
     },
     "metadata": {
      "needs_background": "light"
     },
     "output_type": "display_data"
    }
   ],
   "source": [
    "# The model set up code below is provided as a starting point.\n",
    "# You will probably want to add further code cells for the\n",
    "# different experiments you run.\n",
    "\n",
    "from mlp.layers import AffineLayer, SoftmaxLayer, SigmoidLayer, ReluLayer, LeakyReluLayer\n",
    "from mlp.errors import CrossEntropySoftmaxError\n",
    "from mlp.models import MultipleLayerModel\n",
    "from mlp.initialisers import ConstantInit, GlorotUniformInit\n",
    "from mlp.learning_rules import AdamLearningRule, GradientDescentLearningRule, AdaGradLearningRule, RMSPropLearningRule, AdamLearningRuleWithWeightDecay\n",
    "from mlp.optimisers import Optimiser\n",
    "from mlp.penalties import L2Penalty\n",
    "\n",
    "#setup hyperparameters\n",
    "learning_rates = [0.001]\n",
    "betas_1 = [ 0.9]\n",
    "betas_2 = [0.9]\n",
    "num_epochs = 100\n",
    "stats_interval = 1\n",
    "input_dim, output_dim, hidden_dim = 784, 47, 100\n",
    "\n",
    "for learning_rate in learning_rates:\n",
    "    for beta_1 in betas_1:\n",
    "        for beta_2 in betas_2:\n",
    "            \n",
    "            # Reset random number generator and data provider states on each run\n",
    "            # to ensure reproducibility of results\n",
    "            rng.seed(seed)\n",
    "            train_data.reset()\n",
    "            valid_data.reset()\n",
    "\n",
    "            weights_init = GlorotUniformInit(rng=rng)\n",
    "            biases_init = ConstantInit(0.)\n",
    "\n",
    "            # ----Model with L2 regularization----\n",
    "            # weights_penalty = L2Penalty(0.01)\n",
    "            # model = MultipleLayerModel([\n",
    "            #     AffineLayer(input_dim, hidden_dim, weights_init, biases_init, weights_penalty=weights_penalty), \n",
    "            #     ReluLayer(),\n",
    "            #     AffineLayer(hidden_dim, hidden_dim, weights_init, biases_init, weights_penalty=weights_penalty), \n",
    "            #     ReluLayer(),\n",
    "            #     AffineLayer(hidden_dim, hidden_dim, weights_init, biases_init, weights_penalty=weights_penalty), \n",
    "            #     ReluLayer(),\n",
    "            #     AffineLayer(hidden_dim, output_dim, weights_init, biases_init, weights_penalty=weights_penalty)\n",
    "            # ])\n",
    "\n",
    "            # ----Model without L2 regularization----\n",
    "            model = MultipleLayerModel([\n",
    "                AffineLayer(input_dim, hidden_dim, weights_init, biases_init), \n",
    "                ReluLayer(),\n",
    "                AffineLayer(hidden_dim, hidden_dim, weights_init, biases_init), \n",
    "                ReluLayer(),\n",
    "                AffineLayer(hidden_dim, hidden_dim, weights_init, biases_init), \n",
    "                ReluLayer(),\n",
    "                AffineLayer(hidden_dim, output_dim, weights_init, biases_init)\n",
    "            ])\n",
    "\n",
    "            error = CrossEntropySoftmaxError()\n",
    "            # Use a basic gradient descent learning rule\n",
    "            # learning_rule = GradientDescentLearningRule(learning_rate=learning_rate)\n",
    "#             learning_rule = AdamLearningRule(learning_rate=learning_rate, beta_1=beta_1, beta_2=beta_2)\n",
    "            # learning_rule = AdaGradLearningRule(learning_rate=learning_rate)\n",
    "            # learning_rule = RMSPropLearningRule(learning_rate=learning_rate, beta=beta)\n",
    "            learning_rule = AdamLearningRuleWithWeightDecay(learning_rate=learning_rate, beta_1=beta_1, beta_2=beta_2)\n",
    "\n",
    "            # cosine annealing or not\n",
    "            cos_anneal = True\n",
    "\n",
    "            #Remember to use notebook=False when you write a script to be run in a terminal\n",
    "            _ = train_model_and_plot_stats(\n",
    "                model, error, learning_rule, cos_anneal, train_data, valid_data, num_epochs, stats_interval, notebook=True)\n",
    "            evaluation = _[0]\n",
    "            optimal_epoch = np.where(evaluation[:,3]==np.max(evaluation[:,3]))\n",
    "            print(learning_rate, '  ',beta_1,' ', beta_2, ' ' ,optimal_epoch, ' ', np.max(evaluation[:,3]))"
   ]
  },
  {
   "cell_type": "code",
   "execution_count": 6,
   "metadata": {},
   "outputs": [
    {
     "data": {
      "application/vnd.jupyter.widget-view+json": {
       "model_id": "9a875e1708db4597b5784422bfe157b9",
       "version_major": 2,
       "version_minor": 0
      },
      "text/plain": [
       "HBox(children=(IntProgress(value=0, max=30), HTML(value='')))"
      ]
     },
     "metadata": {},
     "output_type": "display_data"
    },
    {
     "data": {
      "application/vnd.jupyter.widget-view+json": {
       "model_id": "aa16f1afff30482eb44226b2fd45daf0",
       "version_major": 2,
       "version_minor": 0
      },
      "text/plain": [
       "HBox(children=(IntProgress(value=0, max=1000), HTML(value='')))"
      ]
     },
     "metadata": {},
     "output_type": "display_data"
    },
    {
     "name": "stderr",
     "output_type": "stream",
     "text": [
      "Epoch 1: 2.4s to complete\n",
      "    error(train)=6.69e-01, acc(train)=7.85e-01, error(valid)=6.98e-01, acc(valid)=7.74e-01\n"
     ]
    },
    {
     "data": {
      "application/vnd.jupyter.widget-view+json": {
       "model_id": "c189b1687aa54838addee3ad58f0a3ec",
       "version_major": 2,
       "version_minor": 0
      },
      "text/plain": [
       "HBox(children=(IntProgress(value=0, max=1000), HTML(value='')))"
      ]
     },
     "metadata": {},
     "output_type": "display_data"
    },
    {
     "name": "stderr",
     "output_type": "stream",
     "text": [
      "Epoch 2: 2.5s to complete\n",
      "    error(train)=5.51e-01, acc(train)=8.21e-01, error(valid)=6.01e-01, acc(valid)=8.07e-01\n"
     ]
    },
    {
     "data": {
      "application/vnd.jupyter.widget-view+json": {
       "model_id": "c675b86fd0544c3b986df5949a6a4898",
       "version_major": 2,
       "version_minor": 0
      },
      "text/plain": [
       "HBox(children=(IntProgress(value=0, max=1000), HTML(value='')))"
      ]
     },
     "metadata": {},
     "output_type": "display_data"
    },
    {
     "name": "stderr",
     "output_type": "stream",
     "text": [
      "Epoch 3: 2.5s to complete\n",
      "    error(train)=4.96e-01, acc(train)=8.33e-01, error(valid)=5.58e-01, acc(valid)=8.15e-01\n"
     ]
    },
    {
     "data": {
      "application/vnd.jupyter.widget-view+json": {
       "model_id": "eece3adacdd74ebf90e0789ec9f63f76",
       "version_major": 2,
       "version_minor": 0
      },
      "text/plain": [
       "HBox(children=(IntProgress(value=0, max=1000), HTML(value='')))"
      ]
     },
     "metadata": {},
     "output_type": "display_data"
    },
    {
     "name": "stderr",
     "output_type": "stream",
     "text": [
      "Epoch 4: 2.5s to complete\n",
      "    error(train)=4.59e-01, acc(train)=8.45e-01, error(valid)=5.39e-01, acc(valid)=8.23e-01\n"
     ]
    },
    {
     "data": {
      "application/vnd.jupyter.widget-view+json": {
       "model_id": "9016e6d8f7924ef9ad81b0f852c6d458",
       "version_major": 2,
       "version_minor": 0
      },
      "text/plain": [
       "HBox(children=(IntProgress(value=0, max=1000), HTML(value='')))"
      ]
     },
     "metadata": {},
     "output_type": "display_data"
    },
    {
     "name": "stderr",
     "output_type": "stream",
     "text": [
      "Epoch 5: 3.0s to complete\n",
      "    error(train)=4.38e-01, acc(train)=8.49e-01, error(valid)=5.36e-01, acc(valid)=8.25e-01\n"
     ]
    },
    {
     "data": {
      "application/vnd.jupyter.widget-view+json": {
       "model_id": "92e48df47a4d46398a4585987dcc9d33",
       "version_major": 2,
       "version_minor": 0
      },
      "text/plain": [
       "HBox(children=(IntProgress(value=0, max=1000), HTML(value='')))"
      ]
     },
     "metadata": {},
     "output_type": "display_data"
    },
    {
     "name": "stderr",
     "output_type": "stream",
     "text": [
      "Epoch 6: 3.2s to complete\n",
      "    error(train)=4.12e-01, acc(train)=8.56e-01, error(valid)=5.21e-01, acc(valid)=8.27e-01\n"
     ]
    },
    {
     "data": {
      "application/vnd.jupyter.widget-view+json": {
       "model_id": "d5f22ffb2b544d27b73e3112b2e96a86",
       "version_major": 2,
       "version_minor": 0
      },
      "text/plain": [
       "HBox(children=(IntProgress(value=0, max=1000), HTML(value='')))"
      ]
     },
     "metadata": {},
     "output_type": "display_data"
    },
    {
     "name": "stderr",
     "output_type": "stream",
     "text": [
      "Epoch 7: 3.4s to complete\n",
      "    error(train)=3.90e-01, acc(train)=8.64e-01, error(valid)=5.14e-01, acc(valid)=8.32e-01\n"
     ]
    },
    {
     "data": {
      "application/vnd.jupyter.widget-view+json": {
       "model_id": "bcd4228344c24436a20e5e715b50ef1b",
       "version_major": 2,
       "version_minor": 0
      },
      "text/plain": [
       "HBox(children=(IntProgress(value=0, max=1000), HTML(value='')))"
      ]
     },
     "metadata": {},
     "output_type": "display_data"
    },
    {
     "name": "stderr",
     "output_type": "stream",
     "text": [
      "Epoch 8: 3.3s to complete\n",
      "    error(train)=3.87e-01, acc(train)=8.63e-01, error(valid)=5.20e-01, acc(valid)=8.28e-01\n"
     ]
    },
    {
     "data": {
      "application/vnd.jupyter.widget-view+json": {
       "model_id": "a1950ff8184849eb908484a48435f82c",
       "version_major": 2,
       "version_minor": 0
      },
      "text/plain": [
       "HBox(children=(IntProgress(value=0, max=1000), HTML(value='')))"
      ]
     },
     "metadata": {},
     "output_type": "display_data"
    },
    {
     "name": "stderr",
     "output_type": "stream",
     "text": [
      "Epoch 9: 3.2s to complete\n",
      "    error(train)=3.60e-01, acc(train)=8.72e-01, error(valid)=5.02e-01, acc(valid)=8.36e-01\n"
     ]
    },
    {
     "data": {
      "application/vnd.jupyter.widget-view+json": {
       "model_id": "2492e82e18114c0289d70896eba9402c",
       "version_major": 2,
       "version_minor": 0
      },
      "text/plain": [
       "HBox(children=(IntProgress(value=0, max=1000), HTML(value='')))"
      ]
     },
     "metadata": {},
     "output_type": "display_data"
    },
    {
     "name": "stderr",
     "output_type": "stream",
     "text": [
      "Epoch 10: 3.6s to complete\n",
      "    error(train)=3.52e-01, acc(train)=8.74e-01, error(valid)=5.15e-01, acc(valid)=8.29e-01\n"
     ]
    },
    {
     "data": {
      "application/vnd.jupyter.widget-view+json": {
       "model_id": "a7fcb15606df4d8b9d2d3217c3945d14",
       "version_major": 2,
       "version_minor": 0
      },
      "text/plain": [
       "HBox(children=(IntProgress(value=0, max=1000), HTML(value='')))"
      ]
     },
     "metadata": {},
     "output_type": "display_data"
    },
    {
     "name": "stderr",
     "output_type": "stream",
     "text": [
      "Epoch 11: 3.3s to complete\n",
      "    error(train)=3.49e-01, acc(train)=8.75e-01, error(valid)=5.18e-01, acc(valid)=8.31e-01\n"
     ]
    },
    {
     "data": {
      "application/vnd.jupyter.widget-view+json": {
       "model_id": "f553879b884d4d18b9af05fe43c43f04",
       "version_major": 2,
       "version_minor": 0
      },
      "text/plain": [
       "HBox(children=(IntProgress(value=0, max=1000), HTML(value='')))"
      ]
     },
     "metadata": {},
     "output_type": "display_data"
    },
    {
     "name": "stderr",
     "output_type": "stream",
     "text": [
      "Epoch 12: 3.3s to complete\n",
      "    error(train)=3.26e-01, acc(train)=8.82e-01, error(valid)=5.11e-01, acc(valid)=8.35e-01\n"
     ]
    },
    {
     "data": {
      "application/vnd.jupyter.widget-view+json": {
       "model_id": "5cce3219a57d49b68515602d2b9a5806",
       "version_major": 2,
       "version_minor": 0
      },
      "text/plain": [
       "HBox(children=(IntProgress(value=0, max=1000), HTML(value='')))"
      ]
     },
     "metadata": {},
     "output_type": "display_data"
    },
    {
     "name": "stderr",
     "output_type": "stream",
     "text": [
      "Epoch 13: 3.2s to complete\n",
      "    error(train)=3.17e-01, acc(train)=8.85e-01, error(valid)=5.12e-01, acc(valid)=8.37e-01\n"
     ]
    },
    {
     "data": {
      "application/vnd.jupyter.widget-view+json": {
       "model_id": "a7a329ce3aa24de88c6306bad318bc05",
       "version_major": 2,
       "version_minor": 0
      },
      "text/plain": [
       "HBox(children=(IntProgress(value=0, max=1000), HTML(value='')))"
      ]
     },
     "metadata": {},
     "output_type": "display_data"
    },
    {
     "name": "stderr",
     "output_type": "stream",
     "text": [
      "Epoch 14: 3.2s to complete\n",
      "    error(train)=3.14e-01, acc(train)=8.84e-01, error(valid)=5.20e-01, acc(valid)=8.36e-01\n"
     ]
    },
    {
     "data": {
      "application/vnd.jupyter.widget-view+json": {
       "model_id": "8602fca97c4f417492a64f1ac56ed786",
       "version_major": 2,
       "version_minor": 0
      },
      "text/plain": [
       "HBox(children=(IntProgress(value=0, max=1000), HTML(value='')))"
      ]
     },
     "metadata": {},
     "output_type": "display_data"
    },
    {
     "name": "stderr",
     "output_type": "stream",
     "text": [
      "Epoch 15: 3.2s to complete\n",
      "    error(train)=3.19e-01, acc(train)=8.82e-01, error(valid)=5.44e-01, acc(valid)=8.32e-01\n"
     ]
    },
    {
     "data": {
      "application/vnd.jupyter.widget-view+json": {
       "model_id": "b9421d6ae7b24760b49924dabe741638",
       "version_major": 2,
       "version_minor": 0
      },
      "text/plain": [
       "HBox(children=(IntProgress(value=0, max=1000), HTML(value='')))"
      ]
     },
     "metadata": {},
     "output_type": "display_data"
    },
    {
     "name": "stderr",
     "output_type": "stream",
     "text": [
      "Epoch 16: 3.5s to complete\n",
      "    error(train)=3.05e-01, acc(train)=8.84e-01, error(valid)=5.37e-01, acc(valid)=8.33e-01\n"
     ]
    },
    {
     "data": {
      "application/vnd.jupyter.widget-view+json": {
       "model_id": "6a87da633cf8467991687fc03f75b419",
       "version_major": 2,
       "version_minor": 0
      },
      "text/plain": [
       "HBox(children=(IntProgress(value=0, max=1000), HTML(value='')))"
      ]
     },
     "metadata": {},
     "output_type": "display_data"
    },
    {
     "name": "stderr",
     "output_type": "stream",
     "text": [
      "Epoch 17: 3.3s to complete\n",
      "    error(train)=2.93e-01, acc(train)=8.91e-01, error(valid)=5.35e-01, acc(valid)=8.38e-01\n"
     ]
    },
    {
     "data": {
      "application/vnd.jupyter.widget-view+json": {
       "model_id": "d14dfbbe10e940b09df96163c4b09a9b",
       "version_major": 2,
       "version_minor": 0
      },
      "text/plain": [
       "HBox(children=(IntProgress(value=0, max=1000), HTML(value='')))"
      ]
     },
     "metadata": {},
     "output_type": "display_data"
    },
    {
     "name": "stderr",
     "output_type": "stream",
     "text": [
      "Epoch 18: 3.2s to complete\n",
      "    error(train)=2.81e-01, acc(train)=8.95e-01, error(valid)=5.33e-01, acc(valid)=8.36e-01\n"
     ]
    },
    {
     "data": {
      "application/vnd.jupyter.widget-view+json": {
       "model_id": "d24c02e2f13b4f808a6850d94d4d0647",
       "version_major": 2,
       "version_minor": 0
      },
      "text/plain": [
       "HBox(children=(IntProgress(value=0, max=1000), HTML(value='')))"
      ]
     },
     "metadata": {},
     "output_type": "display_data"
    },
    {
     "name": "stderr",
     "output_type": "stream",
     "text": [
      "Epoch 19: 3.3s to complete\n",
      "    error(train)=2.73e-01, acc(train)=8.98e-01, error(valid)=5.46e-01, acc(valid)=8.35e-01\n"
     ]
    },
    {
     "data": {
      "application/vnd.jupyter.widget-view+json": {
       "model_id": "de2bf4d54b5b454bb3a8c4eba0435dcd",
       "version_major": 2,
       "version_minor": 0
      },
      "text/plain": [
       "HBox(children=(IntProgress(value=0, max=1000), HTML(value='')))"
      ]
     },
     "metadata": {},
     "output_type": "display_data"
    },
    {
     "name": "stderr",
     "output_type": "stream",
     "text": [
      "Epoch 20: 3.3s to complete\n",
      "    error(train)=2.63e-01, acc(train)=9.02e-01, error(valid)=5.34e-01, acc(valid)=8.42e-01\n"
     ]
    },
    {
     "data": {
      "application/vnd.jupyter.widget-view+json": {
       "model_id": "c9befae2c2db47c19ecf615c827c19be",
       "version_major": 2,
       "version_minor": 0
      },
      "text/plain": [
       "HBox(children=(IntProgress(value=0, max=1000), HTML(value='')))"
      ]
     },
     "metadata": {},
     "output_type": "display_data"
    },
    {
     "name": "stderr",
     "output_type": "stream",
     "text": [
      "Epoch 21: 3.4s to complete\n",
      "    error(train)=2.70e-01, acc(train)=8.98e-01, error(valid)=5.62e-01, acc(valid)=8.33e-01\n"
     ]
    },
    {
     "data": {
      "application/vnd.jupyter.widget-view+json": {
       "model_id": "d7d425f8c1ae4a10bff0c1abf56a13c7",
       "version_major": 2,
       "version_minor": 0
      },
      "text/plain": [
       "HBox(children=(IntProgress(value=0, max=1000), HTML(value='')))"
      ]
     },
     "metadata": {},
     "output_type": "display_data"
    },
    {
     "name": "stderr",
     "output_type": "stream",
     "text": [
      "Epoch 22: 3.3s to complete\n",
      "    error(train)=2.62e-01, acc(train)=9.00e-01, error(valid)=5.65e-01, acc(valid)=8.35e-01\n"
     ]
    },
    {
     "data": {
      "application/vnd.jupyter.widget-view+json": {
       "model_id": "9ac497a3534b44ceb9a676f3bc269627",
       "version_major": 2,
       "version_minor": 0
      },
      "text/plain": [
       "HBox(children=(IntProgress(value=0, max=1000), HTML(value='')))"
      ]
     },
     "metadata": {},
     "output_type": "display_data"
    },
    {
     "name": "stderr",
     "output_type": "stream",
     "text": [
      "Epoch 23: 3.3s to complete\n",
      "    error(train)=2.45e-01, acc(train)=9.08e-01, error(valid)=5.59e-01, acc(valid)=8.38e-01\n"
     ]
    },
    {
     "data": {
      "application/vnd.jupyter.widget-view+json": {
       "model_id": "d866e2e6bc0b4b969a357186f7361634",
       "version_major": 2,
       "version_minor": 0
      },
      "text/plain": [
       "HBox(children=(IntProgress(value=0, max=1000), HTML(value='')))"
      ]
     },
     "metadata": {},
     "output_type": "display_data"
    },
    {
     "name": "stderr",
     "output_type": "stream",
     "text": [
      "Epoch 24: 3.2s to complete\n",
      "    error(train)=2.43e-01, acc(train)=9.08e-01, error(valid)=5.76e-01, acc(valid)=8.35e-01\n"
     ]
    },
    {
     "data": {
      "application/vnd.jupyter.widget-view+json": {
       "model_id": "f334bfa02c524700b5d8bd10eefa0c08",
       "version_major": 2,
       "version_minor": 0
      },
      "text/plain": [
       "HBox(children=(IntProgress(value=0, max=1000), HTML(value='')))"
      ]
     },
     "metadata": {},
     "output_type": "display_data"
    },
    {
     "name": "stderr",
     "output_type": "stream",
     "text": [
      "Epoch 25: 3.2s to complete\n",
      "    error(train)=2.54e-01, acc(train)=9.01e-01, error(valid)=5.99e-01, acc(valid)=8.31e-01\n"
     ]
    },
    {
     "data": {
      "application/vnd.jupyter.widget-view+json": {
       "model_id": "dabf746554154e2e9fdc605e0102240f",
       "version_major": 2,
       "version_minor": 0
      },
      "text/plain": [
       "HBox(children=(IntProgress(value=0, max=1000), HTML(value='')))"
      ]
     },
     "metadata": {},
     "output_type": "display_data"
    },
    {
     "name": "stderr",
     "output_type": "stream",
     "text": [
      "Epoch 26: 3.3s to complete\n",
      "    error(train)=2.30e-01, acc(train)=9.12e-01, error(valid)=5.85e-01, acc(valid)=8.36e-01\n"
     ]
    },
    {
     "data": {
      "application/vnd.jupyter.widget-view+json": {
       "model_id": "a534214350f14edfb63f706bd8302bd7",
       "version_major": 2,
       "version_minor": 0
      },
      "text/plain": [
       "HBox(children=(IntProgress(value=0, max=1000), HTML(value='')))"
      ]
     },
     "metadata": {},
     "output_type": "display_data"
    },
    {
     "name": "stderr",
     "output_type": "stream",
     "text": [
      "Epoch 27: 3.3s to complete\n",
      "    error(train)=2.47e-01, acc(train)=9.05e-01, error(valid)=6.03e-01, acc(valid)=8.31e-01\n"
     ]
    },
    {
     "data": {
      "application/vnd.jupyter.widget-view+json": {
       "model_id": "36a3c7551eb74148a75ce79c48d2e240",
       "version_major": 2,
       "version_minor": 0
      },
      "text/plain": [
       "HBox(children=(IntProgress(value=0, max=1000), HTML(value='')))"
      ]
     },
     "metadata": {},
     "output_type": "display_data"
    },
    {
     "name": "stderr",
     "output_type": "stream",
     "text": [
      "Epoch 28: 3.3s to complete\n",
      "    error(train)=2.49e-01, acc(train)=9.03e-01, error(valid)=6.28e-01, acc(valid)=8.30e-01\n"
     ]
    },
    {
     "data": {
      "application/vnd.jupyter.widget-view+json": {
       "model_id": "5c228c1c42ba472bae91ab4bd18f305e",
       "version_major": 2,
       "version_minor": 0
      },
      "text/plain": [
       "HBox(children=(IntProgress(value=0, max=1000), HTML(value='')))"
      ]
     },
     "metadata": {},
     "output_type": "display_data"
    },
    {
     "name": "stderr",
     "output_type": "stream",
     "text": [
      "Epoch 29: 3.2s to complete\n",
      "    error(train)=2.36e-01, acc(train)=9.07e-01, error(valid)=6.16e-01, acc(valid)=8.29e-01\n"
     ]
    },
    {
     "data": {
      "application/vnd.jupyter.widget-view+json": {
       "model_id": "5f581f2da7cc4234a3beb3a9b18d6958",
       "version_major": 2,
       "version_minor": 0
      },
      "text/plain": [
       "HBox(children=(IntProgress(value=0, max=1000), HTML(value='')))"
      ]
     },
     "metadata": {},
     "output_type": "display_data"
    },
    {
     "name": "stderr",
     "output_type": "stream",
     "text": [
      "Epoch 30: 3.3s to complete\n",
      "    error(train)=2.37e-01, acc(train)=9.08e-01, error(valid)=6.30e-01, acc(valid)=8.33e-01\n"
     ]
    },
    {
     "name": "stdout",
     "output_type": "stream",
     "text": [
      "\n",
      "0.001    0.85   0.999   (array([20]),)   0.8424050632911393\n"
     ]
    },
    {
     "data": {
      "image/png": "[encoded data removed]",
      "text/plain": [
       "<Figure size 576x288 with 1 Axes>"
      ]
     },
     "metadata": {
      "needs_background": "light"
     },
     "output_type": "display_data"
    },
    {
     "data": {
      "image/png": "[encoded data removed]",
      "text/plain": [
       "<Figure size 576x288 with 1 Axes>"
      ]
     },
     "metadata": {
      "needs_background": "light"
     },
     "output_type": "display_data"
    }
   ],
   "source": [
    "# The model set up code below is provided as a starting point.\n",
    "# You will probably want to add further code cells for the\n",
    "# different experiments you run.\n",
    "\n",
    "from mlp.layers import AffineLayer, SoftmaxLayer, SigmoidLayer, ReluLayer, LeakyReluLayer\n",
    "from mlp.errors import CrossEntropySoftmaxError\n",
    "from mlp.models import MultipleLayerModel\n",
    "from mlp.initialisers import ConstantInit, GlorotUniformInit\n",
    "from mlp.learning_rules import AdamLearningRule, GradientDescentLearningRule, AdaGradLearningRule, RMSPropLearningRule, AdamLearningRuleWithWeightDecay\n",
    "from mlp.optimisers import Optimiser\n",
    "from mlp.penalties import L2Penalty\n",
    "\n",
    "#setup hyperparameters\n",
    "learning_rate = 1e-3\n",
    "beta_1s = [0.85]\n",
    "beta_2s = [ 0.999]\n",
    "num_epochs = 30\n",
    "stats_interval = 1\n",
    "input_dim, output_dim, hidden_dim = 784, 47, 100\n",
    "\n",
    "for beta_1 in beta_1s:\n",
    "    for beta_2 in beta_2s:\n",
    "        # Reset random number generator and data provider states on each run\n",
    "        # to ensure reproducibility of results\n",
    "        rng.seed(seed)\n",
    "        train_data.reset()\n",
    "        valid_data.reset()\n",
    "\n",
    "        weights_init = GlorotUniformInit(rng=rng)\n",
    "        biases_init = ConstantInit(0.)\n",
    "\n",
    "        # ----Model with L2 regularization----\n",
    "        # weights_penalty = L2Penalty(0.01)\n",
    "        # model = MultipleLayerModel([\n",
    "        #     AffineLayer(input_dim, hidden_dim, weights_init, biases_init, weights_penalty=weights_penalty), \n",
    "        #     ReluLayer(),\n",
    "        #     AffineLayer(hidden_dim, hidden_dim, weights_init, biases_init, weights_penalty=weights_penalty), \n",
    "        #     ReluLayer(),\n",
    "        #     AffineLayer(hidden_dim, hidden_dim, weights_init, biases_init, weights_penalty=weights_penalty), \n",
    "        #     ReluLayer(),\n",
    "        #     AffineLayer(hidden_dim, output_dim, weights_init, biases_init, weights_penalty=weights_penalty)\n",
    "        # ])\n",
    "\n",
    "        # ----Model without L2 regularization----\n",
    "        model = MultipleLayerModel([\n",
    "            AffineLayer(input_dim, hidden_dim, weights_init, biases_init), \n",
    "            ReluLayer(),\n",
    "            AffineLayer(hidden_dim, hidden_dim, weights_init, biases_init), \n",
    "            ReluLayer(),\n",
    "            AffineLayer(hidden_dim, hidden_dim, weights_init, biases_init), \n",
    "            ReluLayer(),\n",
    "            AffineLayer(hidden_dim, output_dim, weights_init, biases_init)\n",
    "        ])\n",
    "\n",
    "        error = CrossEntropySoftmaxError()\n",
    "        # Use a basic gradient descent learning rule\n",
    "        # learning_rule = GradientDescentLearningRule(learning_rate=learning_rate)\n",
    "        learning_rule = AdamLearningRule(learning_rate=learning_rate, beta_1=beta_1, beta_2=beta_2)\n",
    "        # learning_rule = AdaGradLearningRule(learning_rate=learning_rate)\n",
    "        # learning_rule = RMSPropLearningRule(learning_rate=learning_rate, beta=beta)\n",
    "        # learning_rule = AdamLearningRuleWithWeightDecay()\n",
    "\n",
    "        # cosine annealing or not\n",
    "        cos_anneal = True\n",
    "\n",
    "        #Remember to use notebook=False when you write a script to be run in a terminal\n",
    "        _ = train_model_and_plot_stats(\n",
    "            model, error, learning_rule, cos_anneal, train_data, valid_data, num_epochs, stats_interval, notebook=True)\n",
    "        evaluation = _[0]\n",
    "        optimal_epoch = np.where(evaluation[:,3]==np.max(evaluation[:,3]))\n",
    "        print(learning_rate, '  ',beta_1,' ', beta_2, ' ' ,optimal_epoch, ' ', np.max(evaluation[:,3]))"
   ]
  },
  {
   "cell_type": "code",
   "execution_count": 34,
   "metadata": {},
   "outputs": [
    {
     "data": {
      "text/plain": [
       "[array([[-0.02668052,  0.08022959, -0.06451566, ..., -0.02845302,\n",
       "         -0.04502113, -0.0592053 ],\n",
       "        [ 0.07583891, -0.02606726, -0.03805806, ..., -0.02537383,\n",
       "          0.061337  , -0.04532025],\n",
       "        [-0.0163208 , -0.00731251, -0.0418593 , ...,  0.04273622,\n",
       "          0.04714403,  0.05461326],\n",
       "        ...,\n",
       "        [ 0.05841601, -0.07932933, -0.06384075, ..., -0.05149606,\n",
       "         -0.03467398,  0.05022357],\n",
       "        [ 0.00996212,  0.01374344,  0.06008946, ..., -0.02110542,\n",
       "          0.06210729,  0.02074961],\n",
       "        [-0.01893391,  0.05293363,  0.01415334, ...,  0.01123588,\n",
       "          0.07750407, -0.04408014]]),\n",
       " array([ 0.11912978, -0.02688128, -0.04103577,  0.1259073 , -0.02596474,\n",
       "        -0.14156355,  0.11730406,  0.22036845,  0.12888887, -0.02714028,\n",
       "         0.01084084,  0.38282767,  0.00502604, -0.02385803, -0.02385254,\n",
       "         0.0851026 , -0.19039332,  0.18659847, -0.26044315,  0.15640041,\n",
       "        -0.20913794, -0.02736431, -0.03273928, -0.07145914,  0.21796559,\n",
       "         0.0455589 ,  0.05686568, -0.17245803, -0.20604002,  0.32071915,\n",
       "         0.18460751,  0.0932174 , -0.01583713, -0.02086283,  0.47925666,\n",
       "         0.05491841,  0.27553065,  0.19241113, -0.2397295 ,  0.30598038,\n",
       "         0.09008411,  0.08052345, -0.03531318, -0.03910696, -0.08050128,\n",
       "        -0.00089183, -0.17077386, -0.0292629 ,  0.00920145,  0.13451967,\n",
       "         0.03794589, -0.24390838,  0.06375499,  0.34088797, -0.03253249,\n",
       "         0.01029749, -0.03470752, -0.05981928,  0.0190862 ,  0.01566757,\n",
       "         0.06427102,  0.20772179,  0.0079228 ,  0.14711133, -0.02605746,\n",
       "        -0.04181895, -0.03388712,  0.1615633 ,  0.06021726, -0.02282288,\n",
       "         0.16947299,  0.21419752,  0.13620685,  0.16630575, -0.04260187,\n",
       "         0.03124556, -0.02953996, -0.02469577, -0.10843667,  0.0817979 ,\n",
       "        -0.07037788,  0.13070398,  0.28694805,  0.1152813 , -0.10594039,\n",
       "         0.07495787,  0.38971064,  0.16048072, -0.05059901,  0.16715163,\n",
       "        -0.15722916,  0.01797423,  0.20108942,  0.15894215,  0.26518097,\n",
       "         0.11593889, -0.03855306, -0.16412677,  0.07566064,  0.07459171]),\n",
       " array([[-0.16274061, -0.08332732, -0.10775633, ...,  0.0936621 ,\n",
       "         -0.01374132,  0.21361326],\n",
       "        [-0.44741807, -0.25119453, -0.01702366, ..., -0.08008265,\n",
       "          0.10795037,  0.00760533],\n",
       "        [-0.18464109, -0.12802185,  0.17102335, ...,  0.03474142,\n",
       "         -0.34208016, -0.56630064],\n",
       "        ...,\n",
       "        [-0.01747881, -0.12703953, -0.00389535, ..., -0.42388811,\n",
       "         -0.05501912, -0.12603864],\n",
       "        [-0.10278715, -0.17990767,  0.05125409, ..., -0.06665308,\n",
       "          0.22622454, -0.07351274],\n",
       "        [ 0.08536342, -0.03045468, -0.05057805, ...,  0.08802691,\n",
       "          0.07523438,  0.00644153]]),\n",
       " array([-0.16097608, -0.03373387, -0.18206439,  0.31676487, -0.07201613,\n",
       "         0.09304327, -0.05439762,  0.11798165, -0.12726444, -0.03993677,\n",
       "         0.32748606,  0.10157619, -0.14804656,  0.22960269, -0.17895301,\n",
       "         0.17832634,  0.2140674 , -0.14980648, -0.1509416 , -0.01377925,\n",
       "        -0.12456594,  0.03865796,  0.10323591,  0.18939961,  0.3979991 ,\n",
       "         0.01823877,  0.24070669,  0.07148334, -0.13189819,  0.10814028,\n",
       "        -0.0345428 ,  0.19540191,  0.03005289,  0.08520627,  0.00782897,\n",
       "        -0.14297165, -0.0655481 ,  0.09017052, -0.09709222,  0.01077827,\n",
       "         0.13253596,  0.08391319, -0.04257974,  0.03129372, -0.00332916,\n",
       "         0.02286067,  0.24039784,  0.05106249, -0.24520687, -0.28614828,\n",
       "         0.05842432,  0.0704888 ,  0.06996735,  0.15905993, -0.07666665,\n",
       "        -0.13510518,  0.09634381,  0.07892937,  0.21735112,  0.01534218,\n",
       "         0.00743003, -0.12786847,  0.17887177,  0.28206306, -0.03615709,\n",
       "        -0.04083329, -0.1860318 ,  0.29896964,  0.06526654, -0.06342566,\n",
       "         0.05527354,  0.21889155,  0.09400689,  0.00807055,  0.13359425,\n",
       "         0.16867628,  0.04844212, -0.14128562,  0.0876022 , -0.05997476,\n",
       "        -0.0716136 , -0.06578607,  0.12341748,  0.01800687,  0.05107622,\n",
       "        -0.08636983, -0.059186  , -0.23506177,  0.18722877,  0.17547031,\n",
       "         0.10325943, -0.18419038, -0.07148954, -0.00341637,  0.26844372,\n",
       "         0.06235987,  0.10719699, -0.10595217,  0.44176303,  0.07098469]),\n",
       " array([[ 0.03415347, -0.15033471,  0.07768714, ...,  0.35206583,\n",
       "          0.11837367, -0.17714506],\n",
       "        [ 0.12017469, -0.00547163, -0.24129785, ..., -0.09357254,\n",
       "         -0.13795263,  0.08634726],\n",
       "        [ 0.29678493, -0.02125266,  0.17482057, ..., -0.06136873,\n",
       "         -0.09599621,  0.14595526],\n",
       "        ...,\n",
       "        [-0.09350941,  0.05739632,  0.32057799, ...,  0.16133984,\n",
       "         -0.35988283,  0.06983525],\n",
       "        [-0.14129301,  0.41753113,  0.11077204, ..., -0.00471462,\n",
       "         -0.00862482, -0.12675201],\n",
       "        [-0.02754969, -0.29718737, -0.10737251, ..., -0.12679729,\n",
       "         -0.17325351, -0.03433931]]),\n",
       " array([ 0.06765317,  0.2742643 ,  0.20233453,  0.04935827,  0.08917125,\n",
       "        -0.09042437, -0.13650443,  0.03606145, -0.04546926, -0.00628527,\n",
       "         0.07522533,  0.18534602,  0.32787715, -0.05058855, -0.1509965 ,\n",
       "         0.03696815,  0.37734063,  0.13299516,  0.12750889,  0.25073275,\n",
       "         0.11249632, -0.06283231,  0.23617419, -0.07286624, -0.03942397,\n",
       "        -0.1944872 ,  0.10341418,  0.06939489,  0.01633024, -0.13028183,\n",
       "         0.02414684, -0.04158778,  0.19212429,  0.15132376,  0.13259996,\n",
       "        -0.05302408, -0.06786114,  0.04096676,  0.18215085,  0.00063498,\n",
       "         0.181623  ,  0.0792385 ,  0.07778706,  0.25764446,  0.08189677,\n",
       "         0.35664454,  0.0288888 , -0.24785076,  0.1024763 , -0.05859967,\n",
       "         0.0820753 ,  0.20604951,  0.06643931, -0.06494416,  0.22636137,\n",
       "         0.1103461 ,  0.05368232,  0.07802497,  0.35390455, -0.0860661 ,\n",
       "        -0.01480297, -0.12849731, -0.0961911 , -0.04754098,  0.18569844,\n",
       "         0.27681281, -0.16577648, -0.3054774 ,  0.25881015,  0.08684925,\n",
       "        -0.05622852,  0.05826803,  0.24603011,  0.22383856,  0.02713504,\n",
       "        -0.04155629, -0.10786897,  0.3591456 ,  0.24413766,  0.23677729,\n",
       "         0.08158606, -0.0800526 ,  0.36179415,  0.18475571, -0.01991742,\n",
       "        -0.07905691,  0.01795778,  0.01604682, -0.07333181, -0.00908873,\n",
       "         0.07888281,  0.10364033, -0.19512613,  0.01771386, -0.16725719,\n",
       "         0.16590542, -0.09212995, -0.0951818 ,  0.09277569,  0.2221622 ]),\n",
       " array([[ 0.05684637,  0.15384035, -0.01614567, ..., -0.22719124,\n",
       "         -0.29303557, -0.00882359],\n",
       "        [ 0.02980789, -1.16740505, -0.20837285, ...,  0.18063867,\n",
       "         -0.26141054, -0.05302762],\n",
       "        [ 0.19945471, -0.13828417, -0.04365944, ...,  0.230668  ,\n",
       "          0.04241844, -0.39529139],\n",
       "        ...,\n",
       "        [-0.13219927, -0.02312582, -0.2982161 , ...,  0.145085  ,\n",
       "         -0.14399379,  0.04265541],\n",
       "        [ 0.23833274,  0.12578014, -0.20419727, ...,  0.22351257,\n",
       "          0.12540913, -0.29987868],\n",
       "        [-0.09994035, -0.25953393, -0.37219066, ...,  0.13080514,\n",
       "         -0.04990581,  0.29059432]]),\n",
       " array([ 7.30115842e-02, -7.77685531e-02,  2.72824547e-01, -2.31083777e-01,\n",
       "        -2.33916389e-01,  9.99896512e-02, -2.21876370e-01, -1.75799898e-01,\n",
       "         2.91471331e-01,  5.83056780e-02,  1.77624084e-01,  1.83916103e-01,\n",
       "        -1.55515845e-01,  9.01451982e-02, -4.85368054e-02,  2.70454111e-01,\n",
       "         1.49834522e-02,  1.39371935e-01, -1.23742105e-01,  2.02988594e-04,\n",
       "         6.20166832e-02,  3.69045409e-02,  4.50790887e-02,  1.00005092e-01,\n",
       "        -7.81508223e-02,  1.81906871e-01,  3.12233168e-01,  1.29993459e-01,\n",
       "         1.27120230e-02,  8.39807953e-02,  7.63971025e-03, -5.34532908e-02,\n",
       "         7.27401147e-02,  3.56234213e-02,  3.90450284e-01, -3.76723138e-01,\n",
       "        -2.50034093e-01, -6.75207426e-02, -3.81039428e-02,  9.56396922e-02,\n",
       "        -1.16504404e-01, -4.51690700e-02,  4.92573563e-02, -1.22508383e-01,\n",
       "        -1.31903740e-01, -4.60286101e-01,  1.01423482e-04])]"
      ]
     },
     "execution_count": 34,
     "metadata": {},
     "output_type": "execute_result"
    }
   ],
   "source": [
    "model.params"
   ]
  },
  {
   "cell_type": "code",
   "execution_count": null,
   "metadata": {},
   "outputs": [],
   "source": []
  }
 ],
 "metadata": {
  "kernelspec": {
   "display_name": "Python 3",
   "language": "python",
   "name": "python3"
  },
  "language_info": {
   "codemirror_mode": {
    "name": "ipython",
    "version": 3
   },
   "file_extension": ".py",
   "mimetype": "text/x-python",
   "name": "python",
   "nbconvert_exporter": "python",
   "pygments_lexer": "ipython3",
   "version": "3.4.9"
  }
 },
 "nbformat": 4,
 "nbformat_minor": 1
}
