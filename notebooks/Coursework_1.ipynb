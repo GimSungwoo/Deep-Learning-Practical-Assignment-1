{
 "cells": [
  {
   "cell_type": "markdown",
   "metadata": {},
   "source": [
    "# Coursework 1\n",
    "\n",
    "This notebook is intended to be used as a starting point for your experiments. The instructions can be found in the instructions file located under spec/coursework1.pdf. The methods provided here are just helper functions. If you want more complex graphs such as side by side comparisons of different experiments you should learn more about matplotlib and implement them. Before each experiment remember to re-initialize neural network weights and reset the data providers so you get a properly initialized experiment. For each experiment try to keep most hyperparameters the same except the one under investigation so you can understand what the effects of each are."
   ]
  },
  {
   "cell_type": "code",
   "execution_count": 1,
   "metadata": {},
   "outputs": [],
   "source": [
    "import matplotlib.pyplot as plt\n",
    "%matplotlib inline\n",
    "plt.style.use('ggplot')\n",
    "\n",
    "def train_model_and_plot_stats(\n",
    "        model, error, learning_rule, cos_anneal, train_data, valid_data, num_epochs, stats_interval, notebook=True):\n",
    "    \n",
    "    # As well as monitoring the error over training also monitor classification\n",
    "    # accuracy i.e. proportion of most-probable predicted classes being equal to targets\n",
    "    data_monitors={'acc': lambda y, t: (y.argmax(-1) == t.argmax(-1)).mean()}\n",
    "\n",
    "    # Use the created objects to initialise a new Optimiser instance.\n",
    "    optimiser = Optimiser(\n",
    "        model, error, learning_rule, cos_anneal, train_data, valid_data, data_monitors, notebook=notebook)\n",
    "\n",
    "    # Run the optimiser for 5 epochs (full passes through the training set)\n",
    "    # printing statistics every epoch.\n",
    "    stats, keys, run_time, model_params = optimiser.train(num_epochs=num_epochs, stats_interval=stats_interval)\n",
    "    #print(model_params)\n",
    "    # Plot the change in the validation and training set error over training.\n",
    "    fig_1 = plt.figure(figsize=(8, 4))\n",
    "    ax_1 = fig_1.add_subplot(111)\n",
    "    for k in ['error(train)', 'error(valid)']:\n",
    "        ax_1.plot(np.arange(1, stats.shape[0]) * stats_interval, \n",
    "                  stats[1:, keys[k]], label=k)\n",
    "    ax_1.legend(loc=0)\n",
    "    ax_1.set_xlabel('Epoch number')\n",
    "    fig_1.tight_layout()\n",
    "    fig_1.savefig('Q1--5layer_error.pdf')\n",
    "    \n",
    "    # Plot the change in the validation and training set accuracy over training.\n",
    "    fig_2 = plt.figure(figsize=(8, 4))\n",
    "    ax_2 = fig_2.add_subplot(111)\n",
    "    for k in ['acc(train)', 'acc(valid)']:\n",
    "        ax_2.plot(np.arange(1, stats.shape[0]) * stats_interval, \n",
    "                  stats[1:, keys[k]], label=k)\n",
    "    ax_2.legend(loc=0)\n",
    "    ax_2.set_xlabel('Epoch number')\n",
    "    fig_1.tight_layout()\n",
    "    fig_1.savefig('Q1--5layer_accuracy.pdf')\n",
    "    \n",
    "    return stats, keys, run_time, fig_1, ax_1, fig_2, ax_2, model_params"
   ]
  },
  {
   "cell_type": "code",
   "execution_count": 2,
   "metadata": {},
   "outputs": [
    {
     "name": "stdout",
     "output_type": "stream",
     "text": [
      "KeysView(<numpy.lib.npyio.NpzFile object at 0x7f80d86e7978>)\n",
      "KeysView(<numpy.lib.npyio.NpzFile object at 0x7f80d86e7940>)\n"
     ]
    }
   ],
   "source": [
    "# The below code will set up the data providers, random number\n",
    "# generator and logger objects needed for training runs. As\n",
    "# loading the data from file take a little while you generally\n",
    "# will probably not want to reload the data providers on\n",
    "# every training run. If you wish to reset their state you\n",
    "# should instead use the .reset() method of the data providers.\n",
    "import numpy as np\n",
    "import logging\n",
    "from mlp.data_providers import MNISTDataProvider, EMNISTDataProvider\n",
    "import copy\n",
    "\n",
    "# Seed a random number generator\n",
    "seed = 11102018 \n",
    "rng = np.random.RandomState(seed)\n",
    "batch_size = 100\n",
    "# Set up a logger object to print info about the training run to stdout\n",
    "logger = logging.getLogger()\n",
    "logger.setLevel(logging.INFO)\n",
    "logger.handlers = [logging.StreamHandler()]\n",
    "\n",
    "# Create data provider objects for the MNIST data set\n",
    "train_data = EMNISTDataProvider('train', batch_size=batch_size, rng=rng)\n",
    "valid_data = EMNISTDataProvider('valid', batch_size=15800, rng=rng)"
   ]
  },
  {
   "cell_type": "code",
   "execution_count": 3,
   "metadata": {
    "scrolled": true
   },
   "outputs": [
    {
     "data": {
      "application/vnd.jupyter.widget-view+json": {
       "model_id": "904f267c5609484c9e7286818c40476a",
       "version_major": 2,
       "version_minor": 0
      },
      "text/plain": [
       "HBox(children=(IntProgress(value=0, max=15), HTML(value='')))"
      ]
     },
     "metadata": {},
     "output_type": "display_data"
    },
    {
     "data": {
      "application/vnd.jupyter.widget-view+json": {
       "model_id": "b63185bf59244e0a9feb20a6009a010b",
       "version_major": 2,
       "version_minor": 0
      },
      "text/plain": [
       "HBox(children=(IntProgress(value=0, max=1000), HTML(value='')))"
      ]
     },
     "metadata": {},
     "output_type": "display_data"
    },
    {
     "name": "stderr",
     "output_type": "stream",
     "text": [
      "Epoch 1: 1.7s to complete\n",
      "    error(train)=8.46e-01, acc(train)=7.29e-01, error(valid)=8.79e-01, acc(valid)=7.20e-01\n"
     ]
    },
    {
     "data": {
      "application/vnd.jupyter.widget-view+json": {
       "model_id": "fdf7de72520a4824a229ab537d3a62db",
       "version_major": 2,
       "version_minor": 0
      },
      "text/plain": [
       "HBox(children=(IntProgress(value=0, max=1000), HTML(value='')))"
      ]
     },
     "metadata": {},
     "output_type": "display_data"
    },
    {
     "name": "stderr",
     "output_type": "stream",
     "text": [
      "Epoch 2: 1.5s to complete\n",
      "    error(train)=7.08e-01, acc(train)=7.62e-01, error(valid)=7.55e-01, acc(valid)=7.52e-01\n"
     ]
    },
    {
     "data": {
      "application/vnd.jupyter.widget-view+json": {
       "model_id": "918516a4a5374e54bd66cbba7a24e78a",
       "version_major": 2,
       "version_minor": 0
      },
      "text/plain": [
       "HBox(children=(IntProgress(value=0, max=1000), HTML(value='')))"
      ]
     },
     "metadata": {},
     "output_type": "display_data"
    },
    {
     "name": "stderr",
     "output_type": "stream",
     "text": [
      "Epoch 3: 1.4s to complete\n",
      "    error(train)=6.76e-01, acc(train)=7.70e-01, error(valid)=7.48e-01, acc(valid)=7.58e-01\n"
     ]
    },
    {
     "data": {
      "application/vnd.jupyter.widget-view+json": {
       "model_id": "b59e226d8a5542bba614438d5474edc4",
       "version_major": 2,
       "version_minor": 0
      },
      "text/plain": [
       "HBox(children=(IntProgress(value=0, max=1000), HTML(value='')))"
      ]
     },
     "metadata": {},
     "output_type": "display_data"
    },
    {
     "name": "stderr",
     "output_type": "stream",
     "text": [
      "Epoch 4: 1.4s to complete\n",
      "    error(train)=5.92e-01, acc(train)=7.97e-01, error(valid)=6.76e-01, acc(valid)=7.80e-01\n"
     ]
    },
    {
     "data": {
      "application/vnd.jupyter.widget-view+json": {
       "model_id": "f43b27d5643c49c9ae1f4756d2aad04d",
       "version_major": 2,
       "version_minor": 0
      },
      "text/plain": [
       "HBox(children=(IntProgress(value=0, max=1000), HTML(value='')))"
      ]
     },
     "metadata": {},
     "output_type": "display_data"
    },
    {
     "name": "stderr",
     "output_type": "stream",
     "text": [
      "Epoch 5: 1.6s to complete\n",
      "    error(train)=6.11e-01, acc(train)=7.91e-01, error(valid)=7.06e-01, acc(valid)=7.77e-01\n"
     ]
    },
    {
     "data": {
      "application/vnd.jupyter.widget-view+json": {
       "model_id": "60e65e8f0b1d43dba3a16eeda8eaf61c",
       "version_major": 2,
       "version_minor": 0
      },
      "text/plain": [
       "HBox(children=(IntProgress(value=0, max=1000), HTML(value='')))"
      ]
     },
     "metadata": {},
     "output_type": "display_data"
    },
    {
     "name": "stderr",
     "output_type": "stream",
     "text": [
      "Epoch 6: 2.9s to complete\n",
      "    error(train)=5.72e-01, acc(train)=8.01e-01, error(valid)=6.91e-01, acc(valid)=7.80e-01\n"
     ]
    },
    {
     "data": {
      "application/vnd.jupyter.widget-view+json": {
       "model_id": "e216aee6321b4a2f95c24fee32328c63",
       "version_major": 2,
       "version_minor": 0
      },
      "text/plain": [
       "HBox(children=(IntProgress(value=0, max=1000), HTML(value='')))"
      ]
     },
     "metadata": {},
     "output_type": "display_data"
    },
    {
     "name": "stderr",
     "output_type": "stream",
     "text": [
      "Epoch 7: 1.3s to complete\n",
      "    error(train)=6.23e-01, acc(train)=7.94e-01, error(valid)=7.47e-01, acc(valid)=7.71e-01\n"
     ]
    },
    {
     "data": {
      "application/vnd.jupyter.widget-view+json": {
       "model_id": "199c20e16be5475e857b3e06030acb3e",
       "version_major": 2,
       "version_minor": 0
      },
      "text/plain": [
       "HBox(children=(IntProgress(value=0, max=1000), HTML(value='')))"
      ]
     },
     "metadata": {},
     "output_type": "display_data"
    },
    {
     "name": "stderr",
     "output_type": "stream",
     "text": [
      "Epoch 8: 1.4s to complete\n",
      "    error(train)=6.31e-01, acc(train)=7.99e-01, error(valid)=7.62e-01, acc(valid)=7.75e-01\n"
     ]
    },
    {
     "data": {
      "application/vnd.jupyter.widget-view+json": {
       "model_id": "d6a8a07ff9f94cf6b9858465bf5449a1",
       "version_major": 2,
       "version_minor": 0
      },
      "text/plain": [
       "HBox(children=(IntProgress(value=0, max=1000), HTML(value='')))"
      ]
     },
     "metadata": {},
     "output_type": "display_data"
    },
    {
     "name": "stderr",
     "output_type": "stream",
     "text": [
      "Epoch 9: 1.4s to complete\n",
      "    error(train)=5.33e-01, acc(train)=8.19e-01, error(valid)=6.80e-01, acc(valid)=7.90e-01\n"
     ]
    },
    {
     "data": {
      "application/vnd.jupyter.widget-view+json": {
       "model_id": "e5be3a01e99341878a0cf37ee3a75da5",
       "version_major": 2,
       "version_minor": 0
      },
      "text/plain": [
       "HBox(children=(IntProgress(value=0, max=1000), HTML(value='')))"
      ]
     },
     "metadata": {},
     "output_type": "display_data"
    },
    {
     "name": "stderr",
     "output_type": "stream",
     "text": [
      "Epoch 10: 2.1s to complete\n",
      "    error(train)=5.80e-01, acc(train)=8.06e-01, error(valid)=7.26e-01, acc(valid)=7.81e-01\n"
     ]
    },
    {
     "data": {
      "application/vnd.jupyter.widget-view+json": {
       "model_id": "55ddf75e86c047469c72cd04ae137349",
       "version_major": 2,
       "version_minor": 0
      },
      "text/plain": [
       "HBox(children=(IntProgress(value=0, max=1000), HTML(value='')))"
      ]
     },
     "metadata": {},
     "output_type": "display_data"
    },
    {
     "name": "stderr",
     "output_type": "stream",
     "text": [
      "Epoch 11: 1.9s to complete\n",
      "    error(train)=5.43e-01, acc(train)=8.08e-01, error(valid)=7.03e-01, acc(valid)=7.78e-01\n"
     ]
    },
    {
     "data": {
      "application/vnd.jupyter.widget-view+json": {
       "model_id": "d94f776ecd66482cbc3e46fd6b6b1b21",
       "version_major": 2,
       "version_minor": 0
      },
      "text/plain": [
       "HBox(children=(IntProgress(value=0, max=1000), HTML(value='')))"
      ]
     },
     "metadata": {},
     "output_type": "display_data"
    },
    {
     "name": "stderr",
     "output_type": "stream",
     "text": [
      "Epoch 12: 1.5s to complete\n",
      "    error(train)=5.42e-01, acc(train)=8.11e-01, error(valid)=7.19e-01, acc(valid)=7.77e-01\n"
     ]
    },
    {
     "data": {
      "application/vnd.jupyter.widget-view+json": {
       "model_id": "15956a79d03441e0a45a0239b852fa26",
       "version_major": 2,
       "version_minor": 0
      },
      "text/plain": [
       "HBox(children=(IntProgress(value=0, max=1000), HTML(value='')))"
      ]
     },
     "metadata": {},
     "output_type": "display_data"
    },
    {
     "name": "stderr",
     "output_type": "stream",
     "text": [
      "Epoch 13: 2.1s to complete\n",
      "    error(train)=5.14e-01, acc(train)=8.23e-01, error(valid)=6.82e-01, acc(valid)=7.95e-01\n"
     ]
    },
    {
     "data": {
      "application/vnd.jupyter.widget-view+json": {
       "model_id": "c7235f1a96ff4882abb4e460e32308df",
       "version_major": 2,
       "version_minor": 0
      },
      "text/plain": [
       "HBox(children=(IntProgress(value=0, max=1000), HTML(value='')))"
      ]
     },
     "metadata": {},
     "output_type": "display_data"
    },
    {
     "name": "stderr",
     "output_type": "stream",
     "text": [
      "Epoch 14: 1.4s to complete\n",
      "    error(train)=5.21e-01, acc(train)=8.21e-01, error(valid)=7.10e-01, acc(valid)=7.86e-01\n"
     ]
    },
    {
     "data": {
      "application/vnd.jupyter.widget-view+json": {
       "model_id": "2e1f461f27bb47b6a37f171e3c5e0b7b",
       "version_major": 2,
       "version_minor": 0
      },
      "text/plain": [
       "HBox(children=(IntProgress(value=0, max=1000), HTML(value='')))"
      ]
     },
     "metadata": {},
     "output_type": "display_data"
    },
    {
     "name": "stderr",
     "output_type": "stream",
     "text": [
      "Epoch 15: 1.6s to complete\n",
      "    error(train)=6.21e-01, acc(train)=7.94e-01, error(valid)=8.00e-01, acc(valid)=7.61e-01\n"
     ]
    },
    {
     "name": "stdout",
     "output_type": "stream",
     "text": [
      "\n",
      "0.9   (array([13]),)   0.7954430379746835\n"
     ]
    },
    {
     "data": {
      "image/png": "[encoded data removed]",
      "text/plain": [
       "<Figure size 576x288 with 1 Axes>"
      ]
     },
     "metadata": {
      "needs_background": "light"
     },
     "output_type": "display_data"
    },
    {
     "data": {
      "image/png": "[encoded data removed]",
      "text/plain": [
       "<Figure size 576x288 with 1 Axes>"
      ]
     },
     "metadata": {
      "needs_background": "light"
     },
     "output_type": "display_data"
    }
   ],
   "source": [
    "# The model set up code below is provided as a starting point.\n",
    "# You will probably want to add further code cells for the\n",
    "# different experiments you run.\n",
    "\n",
    "from mlp.layers import AffineLayer, SoftmaxLayer, SigmoidLayer, ReluLayer, LeakyReluLayer\n",
    "from mlp.errors import CrossEntropySoftmaxError\n",
    "from mlp.models import MultipleLayerModel\n",
    "from mlp.initialisers import ConstantInit, GlorotUniformInit\n",
    "from mlp.learning_rules import AdamLearningRule, GradientDescentLearningRule, AdaGradLearningRule, RMSPropLearningRule, AdamLearningRuleWithWeightDecay\n",
    "from mlp.optimisers import Optimiser\n",
    "from mlp.penalties import L2Penalty\n",
    "\n",
    "#setup hyperparameters\n",
    "learning_rate = 0.9\n",
    "num_epochs = 15\n",
    "stats_interval = 1\n",
    "input_dim, output_dim, hidden_dim = 784, 47, 100\n",
    "\n",
    "# Reset random number generator and data provider states on each run\n",
    "# to ensure reproducibility of results\n",
    "rng.seed(seed)\n",
    "train_data.reset()\n",
    "valid_data.reset()\n",
    "\n",
    "weights_init = GlorotUniformInit(rng=rng)\n",
    "biases_init = ConstantInit(0.)\n",
    "\n",
    "# ----Model with L2 regularization----\n",
    "# weights_penalty = L2Penalty(0.01)\n",
    "# model = MultipleLayerModel([\n",
    "#     AffineLayer(input_dim, hidden_dim, weights_init, biases_init, weights_penalty=weights_penalty), \n",
    "#     ReluLayer(),\n",
    "#     AffineLayer(hidden_dim, hidden_dim, weights_init, biases_init, weights_penalty=weights_penalty), \n",
    "#     ReluLayer(),\n",
    "#     AffineLayer(hidden_dim, hidden_dim, weights_init, biases_init, weights_penalty=weights_penalty), \n",
    "#     ReluLayer(),\n",
    "#     AffineLayer(hidden_dim, output_dim, weights_init, biases_init, weights_penalty=weights_penalty)\n",
    "# ])\n",
    "\n",
    "# ----Model without L2 regularization----\n",
    "model = MultipleLayerModel([\n",
    "    AffineLayer(input_dim, hidden_dim, weights_init, biases_init), \n",
    "    ReluLayer(),\n",
    "    AffineLayer(hidden_dim, hidden_dim, weights_init, biases_init), \n",
    "    ReluLayer(),\n",
    "    AffineLayer(hidden_dim, output_dim, weights_init, biases_init)\n",
    "])\n",
    "\n",
    "error = CrossEntropySoftmaxError()\n",
    "# Use a basic gradient descent learning rule\n",
    "learning_rule = GradientDescentLearningRule(learning_rate=learning_rate)\n",
    "# learning_rule = AdamLearningRule()\n",
    "# learning_rule = AdaGradLearningRule(learning_rate=learning_rate)\n",
    "# learning_rule = RMSPropLearningRule()\n",
    "# learning_rule = AdamLearningRuleWithWeightDecay()\n",
    "\n",
    "# cosine annealing or not\n",
    "cos_anneal = False\n",
    "\n",
    "#Remember to use notebook=False when you write a script to be run in a terminal\n",
    "_ = train_model_and_plot_stats(\n",
    "    model, error, learning_rule, cos_anneal, train_data, valid_data, num_epochs, stats_interval, notebook=True)\n",
    "evaluation = _[0]\n",
    "optimal_epoch = np.where(evaluation[:,3]==np.max(evaluation[:,3]))\n",
    "print(learning_rate,  ' ' ,optimal_epoch, ' ', np.max(evaluation[:,3]))"
   ]
  },
  {
   "cell_type": "code",
   "execution_count": 4,
   "metadata": {},
   "outputs": [
    {
     "name": "stdout",
     "output_type": "stream",
     "text": [
      "(array([13]),)\n"
     ]
    }
   ],
   "source": [
    "print(optimal_epoch)"
   ]
  },
  {
   "cell_type": "code",
   "execution_count": 5,
   "metadata": {},
   "outputs": [],
   "source": [
    "model_param_list = _[7]"
   ]
  },
  {
   "cell_type": "code",
   "execution_count": 6,
   "metadata": {},
   "outputs": [
    {
     "data": {
      "text/plain": [
       "[array([[-0.02668052,  0.08022959, -0.06451566, ..., -0.02845302,\n",
       "         -0.04502113, -0.0592053 ],\n",
       "        [ 0.07583891, -0.02606726, -0.03805806, ..., -0.02537383,\n",
       "          0.061337  , -0.04532025],\n",
       "        [-0.0163208 , -0.00731251, -0.0418593 , ...,  0.04273622,\n",
       "          0.04714403,  0.05461326],\n",
       "        ...,\n",
       "        [ 0.05841601, -0.07932933, -0.06384075, ..., -0.05149606,\n",
       "         -0.03467398,  0.05022357],\n",
       "        [ 0.00996212,  0.01374344,  0.06008946, ..., -0.02110542,\n",
       "          0.06210729,  0.02074961],\n",
       "        [-0.01893391,  0.05293363,  0.01415334, ...,  0.01123588,\n",
       "          0.07750407, -0.04408014]]),\n",
       " array([-8.83856935e-01, -3.61068652e-01, -4.11322640e-01,  1.06531644e+00,\n",
       "        -1.04036494e-01,  7.45769788e-01, -6.39417656e-01,  1.08134571e-01,\n",
       "        -1.64061166e+00, -7.31559239e-01, -6.63350246e-01, -4.52314935e-01,\n",
       "        -1.19968335e+00, -1.57033560e-01, -5.69604433e-01, -7.87285502e-01,\n",
       "        -2.18999225e+00,  2.97779706e-02,  1.98383925e-01,  6.14023613e-01,\n",
       "        -4.98555121e-01,  3.49299196e-01,  1.31412602e+00, -1.76288054e+00,\n",
       "        -2.91460584e-01, -2.89021748e-01, -1.78240575e-01,  4.94473194e-01,\n",
       "         6.24891477e-02, -1.60458574e+00, -8.22505956e-01, -2.30365421e-01,\n",
       "        -1.09204185e+00, -1.49343384e+00, -1.40114000e-01, -1.51963891e+00,\n",
       "        -4.74833715e-01,  3.79927771e-01,  4.72175844e-01,  7.18410255e-02,\n",
       "        -1.05574357e+00, -4.32682199e-02,  2.90050429e-02,  7.79362664e-01,\n",
       "        -9.96122925e-01, -8.35922502e-01, -3.89909262e-01,  7.25047277e-01,\n",
       "         3.46237947e-01, -6.90304756e-01, -1.01668770e-01, -4.18992743e-01,\n",
       "        -6.01603829e-01,  4.95349112e-01, -4.39433028e-01,  2.57957679e-01,\n",
       "         9.22715303e-01,  5.92168711e-01,  1.04236610e+00,  5.40479084e-01,\n",
       "        -1.19724042e+00,  2.41841876e-01, -3.39260815e-01,  5.30589024e-01,\n",
       "        -2.39379210e-04, -4.35801563e-01, -9.62537713e-01, -3.71133893e-01,\n",
       "        -2.35120953e-01,  5.28532509e-01, -5.23656182e-01,  1.15338339e+00,\n",
       "        -5.91809532e-02,  1.75811673e+00,  1.11623761e+00, -7.60177563e-02,\n",
       "         4.96725104e-01, -9.11688534e-02,  3.44244044e-01, -4.95161337e-01,\n",
       "        -1.69776014e+00,  6.99961938e-01, -4.42506300e-03, -1.24090187e-01,\n",
       "        -2.48933823e-02, -2.19841965e-01, -9.80296781e-02, -2.42408441e+00,\n",
       "        -2.12416848e-01,  1.25549586e-01,  9.52861092e-01, -9.58845051e-02,\n",
       "        -1.80562968e-02, -1.18695412e+00, -3.95032161e-02,  7.76524672e-02,\n",
       "         3.87546480e-01,  5.89787008e-01, -4.80391966e-02,  1.95427158e-01]),\n",
       " array([[-0.92441557, -0.13295175,  0.26205573, ...,  0.13381496,\n",
       "         -0.70053792, -0.526383  ],\n",
       "        [-0.6730673 ,  0.07314477,  0.31180775, ..., -0.58265233,\n",
       "         -0.31480423, -0.48429628],\n",
       "        [-0.94543315, -0.54839013,  0.41799814, ..., -0.68809795,\n",
       "          0.14540171, -1.34599217],\n",
       "        ...,\n",
       "        [-0.04580652, -0.17253652, -0.36698668, ..., -0.61448745,\n",
       "         -0.1229857 , -1.0915169 ],\n",
       "        [-0.96241963, -0.01543026,  0.30019815, ...,  0.42686321,\n",
       "          0.04649872, -0.43581002],\n",
       "        [-0.19653427, -1.27470043, -0.28645112, ...,  0.10146894,\n",
       "         -0.34635985,  0.19269212]]),\n",
       " array([ 0.45473504, -0.85533931,  0.15590949, -0.49190002, -0.21264905,\n",
       "        -1.28379879, -0.01115543,  0.58641697, -0.78531738,  0.05492025,\n",
       "        -0.087109  , -0.18693506, -0.54816755,  1.95508035, -0.67266831,\n",
       "         0.02889211,  0.71435712, -0.0193883 ,  2.03585373, -0.19440279,\n",
       "        -1.53537048, -0.16546668,  1.51301595, -0.41722998,  0.32754919,\n",
       "        -0.68542318, -0.6232391 , -0.59329218, -1.20378627,  0.52000696,\n",
       "        -1.31006237,  0.71573808,  0.45212797, -0.09725959, -0.29630506,\n",
       "        -0.52874571,  0.0188311 ,  1.3249918 , -0.47874582, -0.1730752 ,\n",
       "         0.15626237, -0.39702201, -0.20339335, -0.15868692, -1.416143  ,\n",
       "        -1.71774914,  0.06205501,  0.99355322,  0.17406407, -0.62417218,\n",
       "         1.0424565 , -0.20842743, -0.04307581,  0.7892861 ,  0.70387691,\n",
       "         1.18490762, -0.54892924, -0.17061442, -0.30559237, -0.02544317,\n",
       "        -0.85478949,  0.70988967,  0.35679513,  0.39840816,  1.25698562,\n",
       "        -1.70667509,  0.9483273 , -0.6609318 ,  0.03026887, -0.26388202,\n",
       "        -1.47203995, -0.77522291,  0.54485471,  0.47803585,  0.19346643,\n",
       "        -0.93689515,  0.1875125 ,  2.82839341, -0.28744705, -1.44173353,\n",
       "        -1.52112613,  2.27926588,  0.38546493, -0.58135502,  0.4431962 ,\n",
       "         0.53565064, -0.1722114 , -0.24431971,  0.86878424,  2.03217496,\n",
       "        -0.69371232, -1.33765891,  0.45477174, -0.91230144,  1.21583299,\n",
       "        -0.39952852, -0.33992455, -0.48957775, -1.43383908,  0.80567521]),\n",
       " array([[-0.05748413, -0.3752678 , -0.28426767, ...,  0.49147148,\n",
       "         -0.2195475 ,  0.31262694],\n",
       "        [ 0.15688766,  0.31798409, -0.32081317, ..., -0.46623148,\n",
       "         -0.09459582, -0.0607505 ],\n",
       "        [-0.26144056, -0.3044091 ,  0.44163245, ...,  0.38864996,\n",
       "         -0.30903245,  0.00629162],\n",
       "        ...,\n",
       "        [-0.03675774, -0.23023128,  0.20631666, ..., -0.06290519,\n",
       "         -0.07530106,  0.02780716],\n",
       "        [-0.13236036, -0.3525229 ,  0.481526  , ..., -0.35646044,\n",
       "          0.2000127 ,  0.15894311],\n",
       "        [ 0.12753985,  0.53099417, -0.26922042, ..., -0.09533058,\n",
       "          0.40827562,  0.05045784]]),\n",
       " array([ 0.62627752, -0.21728909,  0.13598123, -0.1510605 , -0.19045286,\n",
       "        -0.38099437, -0.8373949 , -0.57216496,  0.35394865,  0.93477944,\n",
       "         0.89988278,  0.79736211, -0.271292  ,  0.54521713, -0.23579122,\n",
       "         1.19758809,  0.18917819,  0.13690091, -0.2530619 , -0.07770378,\n",
       "        -0.54483197,  0.07296303, -0.83379808,  0.11432399,  0.61189255,\n",
       "         0.31167662,  0.39823605, -0.5619997 ,  0.11731127, -0.4387016 ,\n",
       "        -0.03011126, -0.5682973 , -0.49726122, -0.13120028,  0.13778519,\n",
       "        -0.950191  ,  0.0724161 , -0.17411875, -0.32269583, -0.17108556,\n",
       "         0.71928651,  0.90866619, -0.01007435, -0.9866895 ,  0.67047786,\n",
       "        -0.92469903,  0.38080961])]"
      ]
     },
     "execution_count": 6,
     "metadata": {},
     "output_type": "execute_result"
    }
   ],
   "source": [
    "optimal_model_param = model_param_list[optimal_epoch[0][0]-1]\n",
    "optimal_model_param"
   ]
  },
  {
   "cell_type": "code",
   "execution_count": 7,
   "metadata": {},
   "outputs": [
    {
     "data": {
      "text/plain": [
       "[array([[-0.02668052,  0.08022959, -0.06451566, ..., -0.02845302,\n",
       "         -0.04502113, -0.0592053 ],\n",
       "        [ 0.07583891, -0.02606726, -0.03805806, ..., -0.02537383,\n",
       "          0.061337  , -0.04532025],\n",
       "        [-0.0163208 , -0.00731251, -0.0418593 , ...,  0.04273622,\n",
       "          0.04714403,  0.05461326],\n",
       "        ...,\n",
       "        [ 0.05841601, -0.07932933, -0.06384075, ..., -0.05149606,\n",
       "         -0.03467398,  0.05022357],\n",
       "        [ 0.00996212,  0.01374344,  0.06008946, ..., -0.02110542,\n",
       "          0.06210729,  0.02074961],\n",
       "        [-0.01893391,  0.05293363,  0.01415334, ...,  0.01123588,\n",
       "          0.07750407, -0.04408014]]),\n",
       " array([-1.00522828e+00, -4.26353321e-01, -5.69353173e-01,  1.07351534e+00,\n",
       "        -1.02323477e-01,  8.26354895e-01, -6.17093807e-01,  1.26475243e-01,\n",
       "        -1.73909021e+00, -8.60937892e-01, -8.39409033e-01, -5.78092578e-01,\n",
       "        -1.20480148e+00, -2.81684109e-01, -7.13677350e-01, -8.94340358e-01,\n",
       "        -2.42922549e+00,  7.86369974e-02,  1.28880509e-01,  7.48951211e-01,\n",
       "        -5.89284485e-01,  3.54713941e-01,  1.41152162e+00, -1.94113109e+00,\n",
       "        -2.23050498e-01, -3.51667682e-01, -2.64163400e-01,  5.47931841e-01,\n",
       "         1.78555583e-01, -1.75044533e+00, -8.89969185e-01, -2.72625943e-01,\n",
       "        -1.16129006e+00, -1.67398765e+00, -3.17720283e-01, -1.67429776e+00,\n",
       "        -5.70911752e-01,  3.27537633e-01,  3.77274228e-01,  9.80388187e-02,\n",
       "        -1.14019183e+00, -4.29763251e-02,  8.82754460e-02,  8.12056528e-01,\n",
       "        -1.19521251e+00, -9.96458639e-01, -3.75653410e-01,  8.73446587e-01,\n",
       "         3.07533107e-01, -6.95724658e-01, -9.96328252e-02, -5.87196763e-01,\n",
       "        -4.12281726e-01,  4.04847517e-01, -5.12610229e-01,  2.81521587e-01,\n",
       "         9.45841425e-01,  7.48779408e-01,  1.07650629e+00,  6.66724572e-01,\n",
       "        -1.37560188e+00,  2.49490430e-01, -4.53029538e-01,  5.73716576e-01,\n",
       "         2.35747134e-03, -4.27355898e-01, -1.10309126e+00, -3.64306804e-01,\n",
       "        -1.99981235e-01,  5.04481853e-01, -5.68077116e-01,  1.16446306e+00,\n",
       "        -5.46005775e-02,  2.01767114e+00,  1.29370661e+00, -5.31349074e-02,\n",
       "         3.93366278e-01, -8.76718788e-02,  4.47987513e-01, -4.22557881e-01,\n",
       "        -1.96757679e+00,  7.37834903e-01,  8.92583938e-03, -1.24090187e-01,\n",
       "        -1.44043150e-02, -3.39594713e-01, -9.58239167e-02, -2.58966242e+00,\n",
       "        -1.79204159e-01,  1.61406407e-01,  8.73363847e-01, -9.50049327e-02,\n",
       "        -1.79102811e-01, -1.29427211e+00, -3.68082514e-02,  1.69726538e-02,\n",
       "         4.28302357e-01,  6.73761906e-01, -1.05883651e-01,  3.03463370e-03]),\n",
       " array([[-1.09557816,  0.03089426,  0.25981796, ...,  0.21458271,\n",
       "         -0.80254714, -0.58787082],\n",
       "        [-0.69051216,  0.05097658,  0.26357166, ..., -0.57530733,\n",
       "         -0.32360034, -0.42114027],\n",
       "        [-1.03299859, -0.51080726,  0.69394815, ..., -0.88273865,\n",
       "          0.27929239, -1.3417691 ],\n",
       "        ...,\n",
       "        [ 0.08959073, -0.10383686, -0.32302302, ..., -0.57529054,\n",
       "         -0.1965563 , -1.12040469],\n",
       "        [-0.9667611 , -0.18684413,  0.25065526, ...,  0.54886355,\n",
       "          0.1293439 , -0.48346742],\n",
       "        [-0.24977851, -1.31113751, -0.40164   , ...,  0.14048901,\n",
       "         -0.43949639,  0.27162213]]),\n",
       " array([ 5.16275739e-01, -1.02798928e+00,  2.19067117e-01, -5.25154939e-01,\n",
       "        -2.38771072e-01, -1.45495012e+00, -1.00299367e-01,  6.16830399e-01,\n",
       "        -9.06205325e-01,  6.09349990e-02, -1.75859750e-01, -2.69744412e-01,\n",
       "        -5.18259068e-01,  2.09944080e+00, -7.51367176e-01,  5.62852639e-03,\n",
       "         7.48073939e-01, -4.90622132e-02,  2.16015745e+00, -2.34073649e-01,\n",
       "        -1.60587783e+00, -1.51529515e-01,  1.62324971e+00, -5.48652651e-01,\n",
       "         3.62470819e-01, -7.71637416e-01, -6.86765747e-01, -6.10480142e-01,\n",
       "        -1.27324646e+00,  5.56851357e-01, -1.39000909e+00,  7.53337737e-01,\n",
       "         4.46902713e-01, -1.66810487e-01, -3.12923377e-01, -4.98792904e-01,\n",
       "         6.90516719e-04,  1.44084047e+00, -5.48433451e-01, -2.49305592e-01,\n",
       "         2.03882300e-01, -3.97351431e-01, -2.53377346e-01, -1.63602132e-01,\n",
       "        -1.54207556e+00, -1.88787385e+00,  2.52805442e-02,  1.14882037e+00,\n",
       "         1.30436682e-01, -6.89965854e-01,  1.19054221e+00, -2.71571479e-01,\n",
       "        -1.07128909e-01,  7.91232555e-01,  6.97186284e-01,  1.29575042e+00,\n",
       "        -5.74700167e-01, -1.94170998e-01, -3.13997742e-01, -8.86543842e-02,\n",
       "        -9.96160422e-01,  7.75457153e-01,  3.92371571e-01,  4.15256313e-01,\n",
       "         1.35405799e+00, -1.83172371e+00,  1.14283697e+00, -6.60953413e-01,\n",
       "         6.66500370e-02, -2.81910204e-01, -1.57546888e+00, -8.82405257e-01,\n",
       "         6.36998752e-01,  4.09392188e-01,  1.61984341e-01, -1.01643746e+00,\n",
       "         2.43260190e-01,  2.90708869e+00, -3.17297884e-01, -1.57570789e+00,\n",
       "        -1.64996782e+00,  2.43565173e+00,  3.75142778e-01, -7.09135145e-01,\n",
       "         3.47655186e-01,  5.30655475e-01, -1.76621389e-01, -1.95371184e-01,\n",
       "         9.13513242e-01,  2.16889986e+00, -6.85935626e-01, -1.37819923e+00,\n",
       "         4.71761109e-01, -9.75796250e-01,  1.21798055e+00, -4.86200718e-01,\n",
       "        -4.21799137e-01, -5.55806450e-01, -1.56966264e+00,  8.81475326e-01]),\n",
       " array([[-0.09369863, -0.44029668, -0.26708909, ...,  0.45512425,\n",
       "         -0.18438321,  0.28217688],\n",
       "        [ 0.18143534,  0.25432224, -0.29167604, ..., -0.46065248,\n",
       "         -0.07766405, -0.13532139],\n",
       "        [-0.28976669, -0.21071826,  0.53194909, ...,  0.60551646,\n",
       "         -0.26447666, -0.04094485],\n",
       "        ...,\n",
       "        [-0.14081712, -0.38274799,  0.23816071, ..., -0.0808956 ,\n",
       "          0.03213089,  0.01128671],\n",
       "        [-0.17860555, -0.33738021,  0.46674851, ..., -0.31401065,\n",
       "          0.25018391, -0.05582047],\n",
       "        [ 0.19861382,  0.51593093, -0.3298756 , ..., -0.12140324,\n",
       "          0.38949719, -0.00919292]]),\n",
       " array([ 0.55101536, -0.23461798,  0.28568566,  0.0163529 , -0.13174087,\n",
       "        -0.3967147 , -0.71651824, -0.67639871,  0.25621221,  0.97699812,\n",
       "         0.93224733,  0.64841953, -0.14852745,  0.55720695, -0.31925363,\n",
       "         1.22821571,  0.22500693,  0.18410092, -0.17687596, -0.18115055,\n",
       "        -0.62267755,  0.10356251, -0.85036205,  0.14129041,  0.63666002,\n",
       "         0.29383213,  0.38758765, -0.5698663 ,  0.11135661, -0.32853928,\n",
       "         0.00996861, -0.61373643, -0.6352035 , -0.14188829, -0.01672541,\n",
       "        -0.95671649,  0.07703467, -0.15536414, -0.36237798, -0.19627815,\n",
       "         0.92397378,  0.85047924,  0.03040272, -1.06534912,  0.58120724,\n",
       "        -0.95252914,  0.4405947 ])]"
      ]
     },
     "execution_count": 7,
     "metadata": {},
     "output_type": "execute_result"
    }
   ],
   "source": [
    "model.params"
   ]
  },
  {
   "cell_type": "code",
   "execution_count": 8,
   "metadata": {},
   "outputs": [
    {
     "name": "stdout",
     "output_type": "stream",
     "text": [
      "KeysView(<numpy.lib.npyio.NpzFile object at 0x7f80b0323c18>)\n",
      "0.6208573611990946\n"
     ]
    }
   ],
   "source": [
    "\n",
    "test_data = EMNISTDataProvider('train', batch_size=100000, rng=rng)\n",
    "for inputs_batch, targets_batch in test_data:\n",
    "    activations = model.fprop(inputs_batch)\n",
    "    print(error(activations[-1], targets_batch))\n"
   ]
  },
  {
   "cell_type": "code",
   "execution_count": 9,
   "metadata": {},
   "outputs": [
    {
     "name": "stdout",
     "output_type": "stream",
     "text": [
      "KeysView(<numpy.lib.npyio.NpzFile object at 0x7f80b02c49b0>)\n",
      "0.5137662668277966\n"
     ]
    }
   ],
   "source": [
    "for i in range(len(optimal_model_param)):\n",
    "    model.params[i][:] = optimal_model_param[i][:]\n",
    "test_data = EMNISTDataProvider('train', batch_size=100000, rng=rng)\n",
    "for inputs_batch, targets_batch in test_data:\n",
    "    activations = model.fprop(inputs_batch)\n",
    "    print(error(activations[-1], targets_batch))\n"
   ]
  },
  {
   "cell_type": "code",
   "execution_count": 10,
   "metadata": {},
   "outputs": [],
   "source": [
    "# type(optimal_model_param[0])\n",
    "model.params[3]= copy.deepcopy(np.array(optimal_model_param[3]))"
   ]
  },
  {
   "cell_type": "code",
   "execution_count": 11,
   "metadata": {},
   "outputs": [
    {
     "name": "stdout",
     "output_type": "stream",
     "text": [
      "[array([[-0.02668052,  0.08022959, -0.06451566, ..., -0.02845302,\n",
      "        -0.04502113, -0.0592053 ],\n",
      "       [ 0.07583891, -0.02606726, -0.03805806, ..., -0.02537383,\n",
      "         0.061337  , -0.04532025],\n",
      "       [-0.0163208 , -0.00731251, -0.0418593 , ...,  0.04273622,\n",
      "         0.04714403,  0.05461326],\n",
      "       ...,\n",
      "       [ 0.05841601, -0.07932933, -0.06384075, ..., -0.05149606,\n",
      "        -0.03467398,  0.05022357],\n",
      "       [ 0.00996212,  0.01374344,  0.06008946, ..., -0.02110542,\n",
      "         0.06210729,  0.02074961],\n",
      "       [-0.01893391,  0.05293363,  0.01415334, ...,  0.01123588,\n",
      "         0.07750407, -0.04408014]]), array([-8.83856935e-01, -3.61068652e-01, -4.11322640e-01,  1.06531644e+00,\n",
      "       -1.04036494e-01,  7.45769788e-01, -6.39417656e-01,  1.08134571e-01,\n",
      "       -1.64061166e+00, -7.31559239e-01, -6.63350246e-01, -4.52314935e-01,\n",
      "       -1.19968335e+00, -1.57033560e-01, -5.69604433e-01, -7.87285502e-01,\n",
      "       -2.18999225e+00,  2.97779706e-02,  1.98383925e-01,  6.14023613e-01,\n",
      "       -4.98555121e-01,  3.49299196e-01,  1.31412602e+00, -1.76288054e+00,\n",
      "       -2.91460584e-01, -2.89021748e-01, -1.78240575e-01,  4.94473194e-01,\n",
      "        6.24891477e-02, -1.60458574e+00, -8.22505956e-01, -2.30365421e-01,\n",
      "       -1.09204185e+00, -1.49343384e+00, -1.40114000e-01, -1.51963891e+00,\n",
      "       -4.74833715e-01,  3.79927771e-01,  4.72175844e-01,  7.18410255e-02,\n",
      "       -1.05574357e+00, -4.32682199e-02,  2.90050429e-02,  7.79362664e-01,\n",
      "       -9.96122925e-01, -8.35922502e-01, -3.89909262e-01,  7.25047277e-01,\n",
      "        3.46237947e-01, -6.90304756e-01, -1.01668770e-01, -4.18992743e-01,\n",
      "       -6.01603829e-01,  4.95349112e-01, -4.39433028e-01,  2.57957679e-01,\n",
      "        9.22715303e-01,  5.92168711e-01,  1.04236610e+00,  5.40479084e-01,\n",
      "       -1.19724042e+00,  2.41841876e-01, -3.39260815e-01,  5.30589024e-01,\n",
      "       -2.39379210e-04, -4.35801563e-01, -9.62537713e-01, -3.71133893e-01,\n",
      "       -2.35120953e-01,  5.28532509e-01, -5.23656182e-01,  1.15338339e+00,\n",
      "       -5.91809532e-02,  1.75811673e+00,  1.11623761e+00, -7.60177563e-02,\n",
      "        4.96725104e-01, -9.11688534e-02,  3.44244044e-01, -4.95161337e-01,\n",
      "       -1.69776014e+00,  6.99961938e-01, -4.42506300e-03, -1.24090187e-01,\n",
      "       -2.48933823e-02, -2.19841965e-01, -9.80296781e-02, -2.42408441e+00,\n",
      "       -2.12416848e-01,  1.25549586e-01,  9.52861092e-01, -9.58845051e-02,\n",
      "       -1.80562968e-02, -1.18695412e+00, -3.95032161e-02,  7.76524672e-02,\n",
      "        3.87546480e-01,  5.89787008e-01, -4.80391966e-02,  1.95427158e-01]), array([[-0.92441557, -0.13295175,  0.26205573, ...,  0.13381496,\n",
      "        -0.70053792, -0.526383  ],\n",
      "       [-0.6730673 ,  0.07314477,  0.31180775, ..., -0.58265233,\n",
      "        -0.31480423, -0.48429628],\n",
      "       [-0.94543315, -0.54839013,  0.41799814, ..., -0.68809795,\n",
      "         0.14540171, -1.34599217],\n",
      "       ...,\n",
      "       [-0.04580652, -0.17253652, -0.36698668, ..., -0.61448745,\n",
      "        -0.1229857 , -1.0915169 ],\n",
      "       [-0.96241963, -0.01543026,  0.30019815, ...,  0.42686321,\n",
      "         0.04649872, -0.43581002],\n",
      "       [-0.19653427, -1.27470043, -0.28645112, ...,  0.10146894,\n",
      "        -0.34635985,  0.19269212]]), array([ 0.45473504, -0.85533931,  0.15590949, -0.49190002, -0.21264905,\n",
      "       -1.28379879, -0.01115543,  0.58641697, -0.78531738,  0.05492025,\n",
      "       -0.087109  , -0.18693506, -0.54816755,  1.95508035, -0.67266831,\n",
      "        0.02889211,  0.71435712, -0.0193883 ,  2.03585373, -0.19440279,\n",
      "       -1.53537048, -0.16546668,  1.51301595, -0.41722998,  0.32754919,\n",
      "       -0.68542318, -0.6232391 , -0.59329218, -1.20378627,  0.52000696,\n",
      "       -1.31006237,  0.71573808,  0.45212797, -0.09725959, -0.29630506,\n",
      "       -0.52874571,  0.0188311 ,  1.3249918 , -0.47874582, -0.1730752 ,\n",
      "        0.15626237, -0.39702201, -0.20339335, -0.15868692, -1.416143  ,\n",
      "       -1.71774914,  0.06205501,  0.99355322,  0.17406407, -0.62417218,\n",
      "        1.0424565 , -0.20842743, -0.04307581,  0.7892861 ,  0.70387691,\n",
      "        1.18490762, -0.54892924, -0.17061442, -0.30559237, -0.02544317,\n",
      "       -0.85478949,  0.70988967,  0.35679513,  0.39840816,  1.25698562,\n",
      "       -1.70667509,  0.9483273 , -0.6609318 ,  0.03026887, -0.26388202,\n",
      "       -1.47203995, -0.77522291,  0.54485471,  0.47803585,  0.19346643,\n",
      "       -0.93689515,  0.1875125 ,  2.82839341, -0.28744705, -1.44173353,\n",
      "       -1.52112613,  2.27926588,  0.38546493, -0.58135502,  0.4431962 ,\n",
      "        0.53565064, -0.1722114 , -0.24431971,  0.86878424,  2.03217496,\n",
      "       -0.69371232, -1.33765891,  0.45477174, -0.91230144,  1.21583299,\n",
      "       -0.39952852, -0.33992455, -0.48957775, -1.43383908,  0.80567521]), array([[-0.05748413, -0.3752678 , -0.28426767, ...,  0.49147148,\n",
      "        -0.2195475 ,  0.31262694],\n",
      "       [ 0.15688766,  0.31798409, -0.32081317, ..., -0.46623148,\n",
      "        -0.09459582, -0.0607505 ],\n",
      "       [-0.26144056, -0.3044091 ,  0.44163245, ...,  0.38864996,\n",
      "        -0.30903245,  0.00629162],\n",
      "       ...,\n",
      "       [-0.03675774, -0.23023128,  0.20631666, ..., -0.06290519,\n",
      "        -0.07530106,  0.02780716],\n",
      "       [-0.13236036, -0.3525229 ,  0.481526  , ..., -0.35646044,\n",
      "         0.2000127 ,  0.15894311],\n",
      "       [ 0.12753985,  0.53099417, -0.26922042, ..., -0.09533058,\n",
      "         0.40827562,  0.05045784]]), array([ 0.62627752, -0.21728909,  0.13598123, -0.1510605 , -0.19045286,\n",
      "       -0.38099437, -0.8373949 , -0.57216496,  0.35394865,  0.93477944,\n",
      "        0.89988278,  0.79736211, -0.271292  ,  0.54521713, -0.23579122,\n",
      "        1.19758809,  0.18917819,  0.13690091, -0.2530619 , -0.07770378,\n",
      "       -0.54483197,  0.07296303, -0.83379808,  0.11432399,  0.61189255,\n",
      "        0.31167662,  0.39823605, -0.5619997 ,  0.11731127, -0.4387016 ,\n",
      "       -0.03011126, -0.5682973 , -0.49726122, -0.13120028,  0.13778519,\n",
      "       -0.950191  ,  0.0724161 , -0.17411875, -0.32269583, -0.17108556,\n",
      "        0.71928651,  0.90866619, -0.01007435, -0.9866895 ,  0.67047786,\n",
      "       -0.92469903,  0.38080961])]\n",
      "[array([[-0.02668052,  0.08022959, -0.06451566, ..., -0.02845302,\n",
      "        -0.04502113, -0.0592053 ],\n",
      "       [ 0.07583891, -0.02606726, -0.03805806, ..., -0.02537383,\n",
      "         0.061337  , -0.04532025],\n",
      "       [-0.0163208 , -0.00731251, -0.0418593 , ...,  0.04273622,\n",
      "         0.04714403,  0.05461326],\n",
      "       ...,\n",
      "       [ 0.05841601, -0.07932933, -0.06384075, ..., -0.05149606,\n",
      "        -0.03467398,  0.05022357],\n",
      "       [ 0.00996212,  0.01374344,  0.06008946, ..., -0.02110542,\n",
      "         0.06210729,  0.02074961],\n",
      "       [-0.01893391,  0.05293363,  0.01415334, ...,  0.01123588,\n",
      "         0.07750407, -0.04408014]]), array([-8.83856935e-01, -3.61068652e-01, -4.11322640e-01,  1.06531644e+00,\n",
      "       -1.04036494e-01,  7.45769788e-01, -6.39417656e-01,  1.08134571e-01,\n",
      "       -1.64061166e+00, -7.31559239e-01, -6.63350246e-01, -4.52314935e-01,\n",
      "       -1.19968335e+00, -1.57033560e-01, -5.69604433e-01, -7.87285502e-01,\n",
      "       -2.18999225e+00,  2.97779706e-02,  1.98383925e-01,  6.14023613e-01,\n",
      "       -4.98555121e-01,  3.49299196e-01,  1.31412602e+00, -1.76288054e+00,\n",
      "       -2.91460584e-01, -2.89021748e-01, -1.78240575e-01,  4.94473194e-01,\n",
      "        6.24891477e-02, -1.60458574e+00, -8.22505956e-01, -2.30365421e-01,\n",
      "       -1.09204185e+00, -1.49343384e+00, -1.40114000e-01, -1.51963891e+00,\n",
      "       -4.74833715e-01,  3.79927771e-01,  4.72175844e-01,  7.18410255e-02,\n",
      "       -1.05574357e+00, -4.32682199e-02,  2.90050429e-02,  7.79362664e-01,\n",
      "       -9.96122925e-01, -8.35922502e-01, -3.89909262e-01,  7.25047277e-01,\n",
      "        3.46237947e-01, -6.90304756e-01, -1.01668770e-01, -4.18992743e-01,\n",
      "       -6.01603829e-01,  4.95349112e-01, -4.39433028e-01,  2.57957679e-01,\n",
      "        9.22715303e-01,  5.92168711e-01,  1.04236610e+00,  5.40479084e-01,\n",
      "       -1.19724042e+00,  2.41841876e-01, -3.39260815e-01,  5.30589024e-01,\n",
      "       -2.39379210e-04, -4.35801563e-01, -9.62537713e-01, -3.71133893e-01,\n",
      "       -2.35120953e-01,  5.28532509e-01, -5.23656182e-01,  1.15338339e+00,\n",
      "       -5.91809532e-02,  1.75811673e+00,  1.11623761e+00, -7.60177563e-02,\n",
      "        4.96725104e-01, -9.11688534e-02,  3.44244044e-01, -4.95161337e-01,\n",
      "       -1.69776014e+00,  6.99961938e-01, -4.42506300e-03, -1.24090187e-01,\n",
      "       -2.48933823e-02, -2.19841965e-01, -9.80296781e-02, -2.42408441e+00,\n",
      "       -2.12416848e-01,  1.25549586e-01,  9.52861092e-01, -9.58845051e-02,\n",
      "       -1.80562968e-02, -1.18695412e+00, -3.95032161e-02,  7.76524672e-02,\n",
      "        3.87546480e-01,  5.89787008e-01, -4.80391966e-02,  1.95427158e-01]), array([[-0.92441557, -0.13295175,  0.26205573, ...,  0.13381496,\n",
      "        -0.70053792, -0.526383  ],\n",
      "       [-0.6730673 ,  0.07314477,  0.31180775, ..., -0.58265233,\n",
      "        -0.31480423, -0.48429628],\n",
      "       [-0.94543315, -0.54839013,  0.41799814, ..., -0.68809795,\n",
      "         0.14540171, -1.34599217],\n",
      "       ...,\n",
      "       [-0.04580652, -0.17253652, -0.36698668, ..., -0.61448745,\n",
      "        -0.1229857 , -1.0915169 ],\n",
      "       [-0.96241963, -0.01543026,  0.30019815, ...,  0.42686321,\n",
      "         0.04649872, -0.43581002],\n",
      "       [-0.19653427, -1.27470043, -0.28645112, ...,  0.10146894,\n",
      "        -0.34635985,  0.19269212]]), array([ 0.45473504, -0.85533931,  0.15590949, -0.49190002, -0.21264905,\n",
      "       -1.28379879, -0.01115543,  0.58641697, -0.78531738,  0.05492025,\n",
      "       -0.087109  , -0.18693506, -0.54816755,  1.95508035, -0.67266831,\n",
      "        0.02889211,  0.71435712, -0.0193883 ,  2.03585373, -0.19440279,\n",
      "       -1.53537048, -0.16546668,  1.51301595, -0.41722998,  0.32754919,\n",
      "       -0.68542318, -0.6232391 , -0.59329218, -1.20378627,  0.52000696,\n",
      "       -1.31006237,  0.71573808,  0.45212797, -0.09725959, -0.29630506,\n",
      "       -0.52874571,  0.0188311 ,  1.3249918 , -0.47874582, -0.1730752 ,\n",
      "        0.15626237, -0.39702201, -0.20339335, -0.15868692, -1.416143  ,\n",
      "       -1.71774914,  0.06205501,  0.99355322,  0.17406407, -0.62417218,\n",
      "        1.0424565 , -0.20842743, -0.04307581,  0.7892861 ,  0.70387691,\n",
      "        1.18490762, -0.54892924, -0.17061442, -0.30559237, -0.02544317,\n",
      "       -0.85478949,  0.70988967,  0.35679513,  0.39840816,  1.25698562,\n",
      "       -1.70667509,  0.9483273 , -0.6609318 ,  0.03026887, -0.26388202,\n",
      "       -1.47203995, -0.77522291,  0.54485471,  0.47803585,  0.19346643,\n",
      "       -0.93689515,  0.1875125 ,  2.82839341, -0.28744705, -1.44173353,\n",
      "       -1.52112613,  2.27926588,  0.38546493, -0.58135502,  0.4431962 ,\n",
      "        0.53565064, -0.1722114 , -0.24431971,  0.86878424,  2.03217496,\n",
      "       -0.69371232, -1.33765891,  0.45477174, -0.91230144,  1.21583299,\n",
      "       -0.39952852, -0.33992455, -0.48957775, -1.43383908,  0.80567521]), array([[-0.05748413, -0.3752678 , -0.28426767, ...,  0.49147148,\n",
      "        -0.2195475 ,  0.31262694],\n",
      "       [ 0.15688766,  0.31798409, -0.32081317, ..., -0.46623148,\n",
      "        -0.09459582, -0.0607505 ],\n",
      "       [-0.26144056, -0.3044091 ,  0.44163245, ...,  0.38864996,\n",
      "        -0.30903245,  0.00629162],\n",
      "       ...,\n",
      "       [-0.03675774, -0.23023128,  0.20631666, ..., -0.06290519,\n",
      "        -0.07530106,  0.02780716],\n",
      "       [-0.13236036, -0.3525229 ,  0.481526  , ..., -0.35646044,\n",
      "         0.2000127 ,  0.15894311],\n",
      "       [ 0.12753985,  0.53099417, -0.26922042, ..., -0.09533058,\n",
      "         0.40827562,  0.05045784]]), array([ 0.62627752, -0.21728909,  0.13598123, -0.1510605 , -0.19045286,\n",
      "       -0.38099437, -0.8373949 , -0.57216496,  0.35394865,  0.93477944,\n",
      "        0.89988278,  0.79736211, -0.271292  ,  0.54521713, -0.23579122,\n",
      "        1.19758809,  0.18917819,  0.13690091, -0.2530619 , -0.07770378,\n",
      "       -0.54483197,  0.07296303, -0.83379808,  0.11432399,  0.61189255,\n",
      "        0.31167662,  0.39823605, -0.5619997 ,  0.11731127, -0.4387016 ,\n",
      "       -0.03011126, -0.5682973 , -0.49726122, -0.13120028,  0.13778519,\n",
      "       -0.950191  ,  0.0724161 , -0.17411875, -0.32269583, -0.17108556,\n",
      "        0.71928651,  0.90866619, -0.01007435, -0.9866895 ,  0.67047786,\n",
      "       -0.92469903,  0.38080961])]\n"
     ]
    }
   ],
   "source": [
    "print(model.params)\n",
    "print(optimal_model_param)"
   ]
  }
 ],
 "metadata": {
  "kernelspec": {
   "display_name": "Python 3",
   "language": "python",
   "name": "python3"
  },
  "language_info": {
   "codemirror_mode": {
    "name": "ipython",
    "version": 3
   },
   "file_extension": ".py",
   "mimetype": "text/x-python",
   "name": "python",
   "nbconvert_exporter": "python",
   "pygments_lexer": "ipython3",
   "version": "3.4.9"
  }
 },
 "nbformat": 4,
 "nbformat_minor": 1
}
